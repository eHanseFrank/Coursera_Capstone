{
    "cells": [
        {
            "cell_type": "code",
            "execution_count": 80,
            "metadata": {},
            "outputs": [],
            "source": "import pandas as pd\nimport numpy as np"
        },
        {
            "cell_type": "code",
            "execution_count": 81,
            "metadata": {},
            "outputs": [
                {
                    "name": "stderr",
                    "output_type": "stream",
                    "text": "/Users/schumach86/anaconda3/envs/ds-ibm_lab/lib/python3.6/site-packages/IPython/core/interactiveshell.py:3072: DtypeWarning: Columns (33) have mixed types.Specify dtype option on import or set low_memory=False.\n  interactivity=interactivity, compiler=compiler, result=result)\n"
                }
            ],
            "source": "t_df = pd.read_csv(\"Data-Collisions.csv\")"
        },
        {
            "cell_type": "code",
            "execution_count": 82,
            "metadata": {},
            "outputs": [
                {
                    "name": "stdout",
                    "output_type": "stream",
                    "text": "(194673, 38)\n"
                }
            ],
            "source": "t_df.head(10)\nprint(t_df.shape)"
        },
        {
            "cell_type": "markdown",
            "metadata": {},
            "source": "#### Checking whether there is data rows without class (i.e. no Severitycode) which are to be removed."
        },
        {
            "cell_type": "code",
            "execution_count": 83,
            "metadata": {},
            "outputs": [],
            "source": "t_df.dropna(subset=[\"SEVERITYCODE\"], axis=0, inplace=True)"
        },
        {
            "cell_type": "code",
            "execution_count": 84,
            "metadata": {},
            "outputs": [
                {
                    "name": "stdout",
                    "output_type": "stream",
                    "text": "(194673, 38)\n"
                }
            ],
            "source": "print(t_df.shape)"
        },
        {
            "cell_type": "code",
            "execution_count": 86,
            "metadata": {},
            "outputs": [
                {
                    "data": {
                        "text/plain": "1    136485\n2     58188\nName: SEVERITYCODE.1, dtype: int64"
                    },
                    "execution_count": 86,
                    "metadata": {},
                    "output_type": "execute_result"
                }
            ],
            "source": "t_df['SEVERITYCODE.1'].value_counts()"
        },
        {
            "cell_type": "code",
            "execution_count": 46,
            "metadata": {},
            "outputs": [],
            "source": "pd.options.display.max_columns = None"
        },
        {
            "cell_type": "code",
            "execution_count": 47,
            "metadata": {},
            "outputs": [
                {
                    "data": {
                        "text/html": "<div>\n<style scoped>\n    .dataframe tbody tr th:only-of-type {\n        vertical-align: middle;\n    }\n\n    .dataframe tbody tr th {\n        vertical-align: top;\n    }\n\n    .dataframe thead th {\n        text-align: right;\n    }\n</style>\n<table border=\"1\" class=\"dataframe\">\n  <thead>\n    <tr style=\"text-align: right;\">\n      <th></th>\n      <th>SEVERITYCODE</th>\n      <th>X</th>\n      <th>Y</th>\n      <th>OBJECTID</th>\n      <th>INCKEY</th>\n      <th>COLDETKEY</th>\n      <th>REPORTNO</th>\n      <th>STATUS</th>\n      <th>ADDRTYPE</th>\n      <th>INTKEY</th>\n      <th>LOCATION</th>\n      <th>EXCEPTRSNCODE</th>\n      <th>EXCEPTRSNDESC</th>\n      <th>SEVERITYCODE.1</th>\n      <th>SEVERITYDESC</th>\n      <th>COLLISIONTYPE</th>\n      <th>PERSONCOUNT</th>\n      <th>PEDCOUNT</th>\n      <th>PEDCYLCOUNT</th>\n      <th>VEHCOUNT</th>\n      <th>INCDATE</th>\n      <th>INCDTTM</th>\n      <th>JUNCTIONTYPE</th>\n      <th>SDOT_COLCODE</th>\n      <th>SDOT_COLDESC</th>\n      <th>INATTENTIONIND</th>\n      <th>UNDERINFL</th>\n      <th>WEATHER</th>\n      <th>ROADCOND</th>\n      <th>LIGHTCOND</th>\n      <th>PEDROWNOTGRNT</th>\n      <th>SDOTCOLNUM</th>\n      <th>SPEEDING</th>\n      <th>ST_COLCODE</th>\n      <th>ST_COLDESC</th>\n      <th>SEGLANEKEY</th>\n      <th>CROSSWALKKEY</th>\n      <th>HITPARKEDCAR</th>\n    </tr>\n  </thead>\n  <tbody>\n    <tr>\n      <th>0</th>\n      <td>2</td>\n      <td>-122.323148</td>\n      <td>47.703140</td>\n      <td>1</td>\n      <td>1307</td>\n      <td>1307</td>\n      <td>3502005</td>\n      <td>Matched</td>\n      <td>Intersection</td>\n      <td>37475.0</td>\n      <td>5TH AVE NE AND NE 103RD ST</td>\n      <td></td>\n      <td>NaN</td>\n      <td>2</td>\n      <td>Injury Collision</td>\n      <td>Angles</td>\n      <td>2</td>\n      <td>0</td>\n      <td>0</td>\n      <td>2</td>\n      <td>2013/03/27 00:00:00+00</td>\n      <td>3/27/2013 2:54:00 PM</td>\n      <td>At Intersection (intersection related)</td>\n      <td>11</td>\n      <td>MOTOR VEHICLE STRUCK MOTOR VEHICLE, FRONT END ...</td>\n      <td>NaN</td>\n      <td>N</td>\n      <td>Overcast</td>\n      <td>Wet</td>\n      <td>Daylight</td>\n      <td>NaN</td>\n      <td>NaN</td>\n      <td>NaN</td>\n      <td>10</td>\n      <td>Entering at angle</td>\n      <td>0</td>\n      <td>0</td>\n      <td>N</td>\n    </tr>\n    <tr>\n      <th>1</th>\n      <td>1</td>\n      <td>-122.347294</td>\n      <td>47.647172</td>\n      <td>2</td>\n      <td>52200</td>\n      <td>52200</td>\n      <td>2607959</td>\n      <td>Matched</td>\n      <td>Block</td>\n      <td>NaN</td>\n      <td>AURORA BR BETWEEN RAYE ST AND BRIDGE WAY N</td>\n      <td>NaN</td>\n      <td>NaN</td>\n      <td>1</td>\n      <td>Property Damage Only Collision</td>\n      <td>Sideswipe</td>\n      <td>2</td>\n      <td>0</td>\n      <td>0</td>\n      <td>2</td>\n      <td>2006/12/20 00:00:00+00</td>\n      <td>12/20/2006 6:55:00 PM</td>\n      <td>Mid-Block (not related to intersection)</td>\n      <td>16</td>\n      <td>MOTOR VEHICLE STRUCK MOTOR VEHICLE, LEFT SIDE ...</td>\n      <td>NaN</td>\n      <td>0</td>\n      <td>Raining</td>\n      <td>Wet</td>\n      <td>Dark - Street Lights On</td>\n      <td>NaN</td>\n      <td>6354039.0</td>\n      <td>NaN</td>\n      <td>11</td>\n      <td>From same direction - both going straight - bo...</td>\n      <td>0</td>\n      <td>0</td>\n      <td>N</td>\n    </tr>\n    <tr>\n      <th>2</th>\n      <td>1</td>\n      <td>-122.334540</td>\n      <td>47.607871</td>\n      <td>3</td>\n      <td>26700</td>\n      <td>26700</td>\n      <td>1482393</td>\n      <td>Matched</td>\n      <td>Block</td>\n      <td>NaN</td>\n      <td>4TH AVE BETWEEN SENECA ST AND UNIVERSITY ST</td>\n      <td>NaN</td>\n      <td>NaN</td>\n      <td>1</td>\n      <td>Property Damage Only Collision</td>\n      <td>Parked Car</td>\n      <td>4</td>\n      <td>0</td>\n      <td>0</td>\n      <td>3</td>\n      <td>2004/11/18 00:00:00+00</td>\n      <td>11/18/2004 10:20:00 AM</td>\n      <td>Mid-Block (not related to intersection)</td>\n      <td>14</td>\n      <td>MOTOR VEHICLE STRUCK MOTOR VEHICLE, REAR END</td>\n      <td>NaN</td>\n      <td>0</td>\n      <td>Overcast</td>\n      <td>Dry</td>\n      <td>Daylight</td>\n      <td>NaN</td>\n      <td>4323031.0</td>\n      <td>NaN</td>\n      <td>32</td>\n      <td>One parked--one moving</td>\n      <td>0</td>\n      <td>0</td>\n      <td>N</td>\n    </tr>\n    <tr>\n      <th>3</th>\n      <td>1</td>\n      <td>-122.334803</td>\n      <td>47.604803</td>\n      <td>4</td>\n      <td>1144</td>\n      <td>1144</td>\n      <td>3503937</td>\n      <td>Matched</td>\n      <td>Block</td>\n      <td>NaN</td>\n      <td>2ND AVE BETWEEN MARION ST AND MADISON ST</td>\n      <td></td>\n      <td>NaN</td>\n      <td>1</td>\n      <td>Property Damage Only Collision</td>\n      <td>Other</td>\n      <td>3</td>\n      <td>0</td>\n      <td>0</td>\n      <td>3</td>\n      <td>2013/03/29 00:00:00+00</td>\n      <td>3/29/2013 9:26:00 AM</td>\n      <td>Mid-Block (not related to intersection)</td>\n      <td>11</td>\n      <td>MOTOR VEHICLE STRUCK MOTOR VEHICLE, FRONT END ...</td>\n      <td>NaN</td>\n      <td>N</td>\n      <td>Clear</td>\n      <td>Dry</td>\n      <td>Daylight</td>\n      <td>NaN</td>\n      <td>NaN</td>\n      <td>NaN</td>\n      <td>23</td>\n      <td>From same direction - all others</td>\n      <td>0</td>\n      <td>0</td>\n      <td>N</td>\n    </tr>\n    <tr>\n      <th>4</th>\n      <td>2</td>\n      <td>-122.306426</td>\n      <td>47.545739</td>\n      <td>5</td>\n      <td>17700</td>\n      <td>17700</td>\n      <td>1807429</td>\n      <td>Matched</td>\n      <td>Intersection</td>\n      <td>34387.0</td>\n      <td>SWIFT AVE S AND SWIFT AV OFF RP</td>\n      <td>NaN</td>\n      <td>NaN</td>\n      <td>2</td>\n      <td>Injury Collision</td>\n      <td>Angles</td>\n      <td>2</td>\n      <td>0</td>\n      <td>0</td>\n      <td>2</td>\n      <td>2004/01/28 00:00:00+00</td>\n      <td>1/28/2004 8:04:00 AM</td>\n      <td>At Intersection (intersection related)</td>\n      <td>11</td>\n      <td>MOTOR VEHICLE STRUCK MOTOR VEHICLE, FRONT END ...</td>\n      <td>NaN</td>\n      <td>0</td>\n      <td>Raining</td>\n      <td>Wet</td>\n      <td>Daylight</td>\n      <td>NaN</td>\n      <td>4028032.0</td>\n      <td>NaN</td>\n      <td>10</td>\n      <td>Entering at angle</td>\n      <td>0</td>\n      <td>0</td>\n      <td>N</td>\n    </tr>\n    <tr>\n      <th>5</th>\n      <td>1</td>\n      <td>-122.387598</td>\n      <td>47.690575</td>\n      <td>6</td>\n      <td>320840</td>\n      <td>322340</td>\n      <td>E919477</td>\n      <td>Matched</td>\n      <td>Intersection</td>\n      <td>36974.0</td>\n      <td>24TH AVE NW AND NW 85TH ST</td>\n      <td></td>\n      <td>NaN</td>\n      <td>1</td>\n      <td>Property Damage Only Collision</td>\n      <td>Angles</td>\n      <td>2</td>\n      <td>0</td>\n      <td>0</td>\n      <td>2</td>\n      <td>2019/04/20 00:00:00+00</td>\n      <td>4/20/2019 5:42:00 PM</td>\n      <td>At Intersection (intersection related)</td>\n      <td>11</td>\n      <td>MOTOR VEHICLE STRUCK MOTOR VEHICLE, FRONT END ...</td>\n      <td>NaN</td>\n      <td>N</td>\n      <td>Clear</td>\n      <td>Dry</td>\n      <td>Daylight</td>\n      <td>NaN</td>\n      <td>NaN</td>\n      <td>NaN</td>\n      <td>10</td>\n      <td>Entering at angle</td>\n      <td>0</td>\n      <td>0</td>\n      <td>N</td>\n    </tr>\n    <tr>\n      <th>6</th>\n      <td>1</td>\n      <td>-122.338485</td>\n      <td>47.618534</td>\n      <td>7</td>\n      <td>83300</td>\n      <td>83300</td>\n      <td>3282542</td>\n      <td>Matched</td>\n      <td>Intersection</td>\n      <td>29510.0</td>\n      <td>DENNY WAY AND WESTLAKE AVE</td>\n      <td>NaN</td>\n      <td>NaN</td>\n      <td>1</td>\n      <td>Property Damage Only Collision</td>\n      <td>Angles</td>\n      <td>2</td>\n      <td>0</td>\n      <td>0</td>\n      <td>2</td>\n      <td>2008/12/09 00:00:00+00</td>\n      <td>12/9/2008</td>\n      <td>At Intersection (intersection related)</td>\n      <td>11</td>\n      <td>MOTOR VEHICLE STRUCK MOTOR VEHICLE, FRONT END ...</td>\n      <td>NaN</td>\n      <td>0</td>\n      <td>Raining</td>\n      <td>Wet</td>\n      <td>Daylight</td>\n      <td>NaN</td>\n      <td>8344002.0</td>\n      <td>NaN</td>\n      <td>10</td>\n      <td>Entering at angle</td>\n      <td>0</td>\n      <td>0</td>\n      <td>N</td>\n    </tr>\n    <tr>\n      <th>7</th>\n      <td>2</td>\n      <td>-122.320780</td>\n      <td>47.614076</td>\n      <td>9</td>\n      <td>330897</td>\n      <td>332397</td>\n      <td>EA30304</td>\n      <td>Matched</td>\n      <td>Intersection</td>\n      <td>29745.0</td>\n      <td>BROADWAY AND E PIKE ST</td>\n      <td></td>\n      <td>NaN</td>\n      <td>2</td>\n      <td>Injury Collision</td>\n      <td>Cycles</td>\n      <td>3</td>\n      <td>0</td>\n      <td>1</td>\n      <td>1</td>\n      <td>2020/04/15 00:00:00+00</td>\n      <td>4/15/2020 5:47:00 PM</td>\n      <td>At Intersection (intersection related)</td>\n      <td>51</td>\n      <td>PEDALCYCLIST STRUCK MOTOR VEHICLE FRONT END AT...</td>\n      <td>NaN</td>\n      <td>N</td>\n      <td>Clear</td>\n      <td>Dry</td>\n      <td>Daylight</td>\n      <td>NaN</td>\n      <td>NaN</td>\n      <td>NaN</td>\n      <td>5</td>\n      <td>Vehicle Strikes Pedalcyclist</td>\n      <td>6855</td>\n      <td>0</td>\n      <td>N</td>\n    </tr>\n    <tr>\n      <th>8</th>\n      <td>1</td>\n      <td>-122.335930</td>\n      <td>47.611904</td>\n      <td>10</td>\n      <td>63400</td>\n      <td>63400</td>\n      <td>2071243</td>\n      <td>Matched</td>\n      <td>Block</td>\n      <td>NaN</td>\n      <td>PINE ST BETWEEN 5TH AVE AND 6TH AVE</td>\n      <td>NaN</td>\n      <td>NaN</td>\n      <td>1</td>\n      <td>Property Damage Only Collision</td>\n      <td>Parked Car</td>\n      <td>2</td>\n      <td>0</td>\n      <td>0</td>\n      <td>2</td>\n      <td>2006/06/15 00:00:00+00</td>\n      <td>6/15/2006 1:00:00 PM</td>\n      <td>Mid-Block (not related to intersection)</td>\n      <td>11</td>\n      <td>MOTOR VEHICLE STRUCK MOTOR VEHICLE, FRONT END ...</td>\n      <td>NaN</td>\n      <td>0</td>\n      <td>Clear</td>\n      <td>Dry</td>\n      <td>Daylight</td>\n      <td>NaN</td>\n      <td>6166014.0</td>\n      <td>NaN</td>\n      <td>32</td>\n      <td>One parked--one moving</td>\n      <td>0</td>\n      <td>0</td>\n      <td>N</td>\n    </tr>\n    <tr>\n      <th>9</th>\n      <td>2</td>\n      <td>-122.384700</td>\n      <td>47.528475</td>\n      <td>12</td>\n      <td>58600</td>\n      <td>58600</td>\n      <td>2072105</td>\n      <td>Matched</td>\n      <td>Intersection</td>\n      <td>34679.0</td>\n      <td>41ST AVE SW AND SW THISTLE ST</td>\n      <td>NaN</td>\n      <td>NaN</td>\n      <td>2</td>\n      <td>Injury Collision</td>\n      <td>Angles</td>\n      <td>2</td>\n      <td>0</td>\n      <td>0</td>\n      <td>2</td>\n      <td>2006/03/20 00:00:00+00</td>\n      <td>3/20/2006 3:49:00 PM</td>\n      <td>At Intersection (intersection related)</td>\n      <td>11</td>\n      <td>MOTOR VEHICLE STRUCK MOTOR VEHICLE, FRONT END ...</td>\n      <td>NaN</td>\n      <td>0</td>\n      <td>Clear</td>\n      <td>Dry</td>\n      <td>Daylight</td>\n      <td>NaN</td>\n      <td>6079001.0</td>\n      <td>NaN</td>\n      <td>10</td>\n      <td>Entering at angle</td>\n      <td>0</td>\n      <td>0</td>\n      <td>N</td>\n    </tr>\n  </tbody>\n</table>\n</div>",
                        "text/plain": "   SEVERITYCODE           X          Y  OBJECTID  INCKEY  COLDETKEY REPORTNO  \\\n0             2 -122.323148  47.703140         1    1307       1307  3502005   \n1             1 -122.347294  47.647172         2   52200      52200  2607959   \n2             1 -122.334540  47.607871         3   26700      26700  1482393   \n3             1 -122.334803  47.604803         4    1144       1144  3503937   \n4             2 -122.306426  47.545739         5   17700      17700  1807429   \n5             1 -122.387598  47.690575         6  320840     322340  E919477   \n6             1 -122.338485  47.618534         7   83300      83300  3282542   \n7             2 -122.320780  47.614076         9  330897     332397  EA30304   \n8             1 -122.335930  47.611904        10   63400      63400  2071243   \n9             2 -122.384700  47.528475        12   58600      58600  2072105   \n\n    STATUS      ADDRTYPE   INTKEY  \\\n0  Matched  Intersection  37475.0   \n1  Matched         Block      NaN   \n2  Matched         Block      NaN   \n3  Matched         Block      NaN   \n4  Matched  Intersection  34387.0   \n5  Matched  Intersection  36974.0   \n6  Matched  Intersection  29510.0   \n7  Matched  Intersection  29745.0   \n8  Matched         Block      NaN   \n9  Matched  Intersection  34679.0   \n\n                                      LOCATION EXCEPTRSNCODE EXCEPTRSNDESC  \\\n0                   5TH AVE NE AND NE 103RD ST                         NaN   \n1   AURORA BR BETWEEN RAYE ST AND BRIDGE WAY N           NaN           NaN   \n2  4TH AVE BETWEEN SENECA ST AND UNIVERSITY ST           NaN           NaN   \n3     2ND AVE BETWEEN MARION ST AND MADISON ST                         NaN   \n4              SWIFT AVE S AND SWIFT AV OFF RP           NaN           NaN   \n5                   24TH AVE NW AND NW 85TH ST                         NaN   \n6                   DENNY WAY AND WESTLAKE AVE           NaN           NaN   \n7                       BROADWAY AND E PIKE ST                         NaN   \n8          PINE ST BETWEEN 5TH AVE AND 6TH AVE           NaN           NaN   \n9                41ST AVE SW AND SW THISTLE ST           NaN           NaN   \n\n   SEVERITYCODE.1                    SEVERITYDESC COLLISIONTYPE  PERSONCOUNT  \\\n0               2                Injury Collision        Angles            2   \n1               1  Property Damage Only Collision     Sideswipe            2   \n2               1  Property Damage Only Collision    Parked Car            4   \n3               1  Property Damage Only Collision         Other            3   \n4               2                Injury Collision        Angles            2   \n5               1  Property Damage Only Collision        Angles            2   \n6               1  Property Damage Only Collision        Angles            2   \n7               2                Injury Collision        Cycles            3   \n8               1  Property Damage Only Collision    Parked Car            2   \n9               2                Injury Collision        Angles            2   \n\n   PEDCOUNT  PEDCYLCOUNT  VEHCOUNT                 INCDATE  \\\n0         0            0         2  2013/03/27 00:00:00+00   \n1         0            0         2  2006/12/20 00:00:00+00   \n2         0            0         3  2004/11/18 00:00:00+00   \n3         0            0         3  2013/03/29 00:00:00+00   \n4         0            0         2  2004/01/28 00:00:00+00   \n5         0            0         2  2019/04/20 00:00:00+00   \n6         0            0         2  2008/12/09 00:00:00+00   \n7         0            1         1  2020/04/15 00:00:00+00   \n8         0            0         2  2006/06/15 00:00:00+00   \n9         0            0         2  2006/03/20 00:00:00+00   \n\n                  INCDTTM                             JUNCTIONTYPE  \\\n0    3/27/2013 2:54:00 PM   At Intersection (intersection related)   \n1   12/20/2006 6:55:00 PM  Mid-Block (not related to intersection)   \n2  11/18/2004 10:20:00 AM  Mid-Block (not related to intersection)   \n3    3/29/2013 9:26:00 AM  Mid-Block (not related to intersection)   \n4    1/28/2004 8:04:00 AM   At Intersection (intersection related)   \n5    4/20/2019 5:42:00 PM   At Intersection (intersection related)   \n6               12/9/2008   At Intersection (intersection related)   \n7    4/15/2020 5:47:00 PM   At Intersection (intersection related)   \n8    6/15/2006 1:00:00 PM  Mid-Block (not related to intersection)   \n9    3/20/2006 3:49:00 PM   At Intersection (intersection related)   \n\n   SDOT_COLCODE                                       SDOT_COLDESC  \\\n0            11  MOTOR VEHICLE STRUCK MOTOR VEHICLE, FRONT END ...   \n1            16  MOTOR VEHICLE STRUCK MOTOR VEHICLE, LEFT SIDE ...   \n2            14       MOTOR VEHICLE STRUCK MOTOR VEHICLE, REAR END   \n3            11  MOTOR VEHICLE STRUCK MOTOR VEHICLE, FRONT END ...   \n4            11  MOTOR VEHICLE STRUCK MOTOR VEHICLE, FRONT END ...   \n5            11  MOTOR VEHICLE STRUCK MOTOR VEHICLE, FRONT END ...   \n6            11  MOTOR VEHICLE STRUCK MOTOR VEHICLE, FRONT END ...   \n7            51  PEDALCYCLIST STRUCK MOTOR VEHICLE FRONT END AT...   \n8            11  MOTOR VEHICLE STRUCK MOTOR VEHICLE, FRONT END ...   \n9            11  MOTOR VEHICLE STRUCK MOTOR VEHICLE, FRONT END ...   \n\n  INATTENTIONIND UNDERINFL   WEATHER ROADCOND                LIGHTCOND  \\\n0            NaN         N  Overcast      Wet                 Daylight   \n1            NaN         0   Raining      Wet  Dark - Street Lights On   \n2            NaN         0  Overcast      Dry                 Daylight   \n3            NaN         N     Clear      Dry                 Daylight   \n4            NaN         0   Raining      Wet                 Daylight   \n5            NaN         N     Clear      Dry                 Daylight   \n6            NaN         0   Raining      Wet                 Daylight   \n7            NaN         N     Clear      Dry                 Daylight   \n8            NaN         0     Clear      Dry                 Daylight   \n9            NaN         0     Clear      Dry                 Daylight   \n\n  PEDROWNOTGRNT  SDOTCOLNUM SPEEDING ST_COLCODE  \\\n0           NaN         NaN      NaN         10   \n1           NaN   6354039.0      NaN         11   \n2           NaN   4323031.0      NaN         32   \n3           NaN         NaN      NaN         23   \n4           NaN   4028032.0      NaN         10   \n5           NaN         NaN      NaN         10   \n6           NaN   8344002.0      NaN         10   \n7           NaN         NaN      NaN          5   \n8           NaN   6166014.0      NaN         32   \n9           NaN   6079001.0      NaN         10   \n\n                                          ST_COLDESC  SEGLANEKEY  \\\n0                                  Entering at angle           0   \n1  From same direction - both going straight - bo...           0   \n2                             One parked--one moving           0   \n3                   From same direction - all others           0   \n4                                  Entering at angle           0   \n5                                  Entering at angle           0   \n6                                  Entering at angle           0   \n7                       Vehicle Strikes Pedalcyclist        6855   \n8                             One parked--one moving           0   \n9                                  Entering at angle           0   \n\n   CROSSWALKKEY HITPARKEDCAR  \n0             0            N  \n1             0            N  \n2             0            N  \n3             0            N  \n4             0            N  \n5             0            N  \n6             0            N  \n7             0            N  \n8             0            N  \n9             0            N  "
                    },
                    "execution_count": 47,
                    "metadata": {},
                    "output_type": "execute_result"
                }
            ],
            "source": "t_df.head(10)"
        },
        {
            "cell_type": "code",
            "execution_count": 48,
            "metadata": {},
            "outputs": [
                {
                    "data": {
                        "text/html": "<div>\n<style scoped>\n    .dataframe tbody tr th:only-of-type {\n        vertical-align: middle;\n    }\n\n    .dataframe tbody tr th {\n        vertical-align: top;\n    }\n\n    .dataframe thead th {\n        text-align: right;\n    }\n</style>\n<table border=\"1\" class=\"dataframe\">\n  <thead>\n    <tr style=\"text-align: right;\">\n      <th></th>\n      <th>SEVERITYCODE</th>\n      <th>X</th>\n      <th>Y</th>\n      <th>OBJECTID</th>\n      <th>INCKEY</th>\n      <th>COLDETKEY</th>\n      <th>REPORTNO</th>\n      <th>STATUS</th>\n      <th>ADDRTYPE</th>\n      <th>INTKEY</th>\n      <th>LOCATION</th>\n      <th>EXCEPTRSNCODE</th>\n      <th>EXCEPTRSNDESC</th>\n      <th>SEVERITYCODE.1</th>\n      <th>SEVERITYDESC</th>\n      <th>COLLISIONTYPE</th>\n      <th>PERSONCOUNT</th>\n      <th>PEDCOUNT</th>\n      <th>PEDCYLCOUNT</th>\n      <th>VEHCOUNT</th>\n      <th>INCDATE</th>\n      <th>INCDTTM</th>\n      <th>JUNCTIONTYPE</th>\n      <th>SDOT_COLCODE</th>\n      <th>SDOT_COLDESC</th>\n      <th>INATTENTIONIND</th>\n      <th>UNDERINFL</th>\n      <th>WEATHER</th>\n      <th>ROADCOND</th>\n      <th>LIGHTCOND</th>\n      <th>PEDROWNOTGRNT</th>\n      <th>SDOTCOLNUM</th>\n      <th>SPEEDING</th>\n      <th>ST_COLCODE</th>\n      <th>ST_COLDESC</th>\n      <th>SEGLANEKEY</th>\n      <th>CROSSWALKKEY</th>\n      <th>HITPARKEDCAR</th>\n    </tr>\n  </thead>\n  <tbody>\n    <tr>\n      <th>count</th>\n      <td>194673.000000</td>\n      <td>189339.000000</td>\n      <td>189339.000000</td>\n      <td>194673.000000</td>\n      <td>194673.000000</td>\n      <td>194673.000000</td>\n      <td>194673</td>\n      <td>194673</td>\n      <td>192747</td>\n      <td>65070.000000</td>\n      <td>191996</td>\n      <td>84811</td>\n      <td>5638</td>\n      <td>194673.000000</td>\n      <td>194673</td>\n      <td>189769</td>\n      <td>194673.000000</td>\n      <td>194673.000000</td>\n      <td>194673.000000</td>\n      <td>194673.000000</td>\n      <td>194673</td>\n      <td>194673</td>\n      <td>188344</td>\n      <td>194673.000000</td>\n      <td>194673</td>\n      <td>29805</td>\n      <td>189789</td>\n      <td>189592</td>\n      <td>189661</td>\n      <td>189503</td>\n      <td>4667</td>\n      <td>1.149360e+05</td>\n      <td>9333</td>\n      <td>194655</td>\n      <td>189769</td>\n      <td>194673.000000</td>\n      <td>1.946730e+05</td>\n      <td>194673</td>\n    </tr>\n    <tr>\n      <th>unique</th>\n      <td>NaN</td>\n      <td>NaN</td>\n      <td>NaN</td>\n      <td>NaN</td>\n      <td>NaN</td>\n      <td>NaN</td>\n      <td>194670</td>\n      <td>2</td>\n      <td>3</td>\n      <td>NaN</td>\n      <td>24102</td>\n      <td>2</td>\n      <td>1</td>\n      <td>NaN</td>\n      <td>2</td>\n      <td>10</td>\n      <td>NaN</td>\n      <td>NaN</td>\n      <td>NaN</td>\n      <td>NaN</td>\n      <td>5985</td>\n      <td>162058</td>\n      <td>7</td>\n      <td>NaN</td>\n      <td>39</td>\n      <td>1</td>\n      <td>4</td>\n      <td>11</td>\n      <td>9</td>\n      <td>9</td>\n      <td>1</td>\n      <td>NaN</td>\n      <td>1</td>\n      <td>115</td>\n      <td>62</td>\n      <td>NaN</td>\n      <td>NaN</td>\n      <td>2</td>\n    </tr>\n    <tr>\n      <th>top</th>\n      <td>NaN</td>\n      <td>NaN</td>\n      <td>NaN</td>\n      <td>NaN</td>\n      <td>NaN</td>\n      <td>NaN</td>\n      <td>1782439</td>\n      <td>Matched</td>\n      <td>Block</td>\n      <td>NaN</td>\n      <td>BATTERY ST TUNNEL NB BETWEEN ALASKAN WY VI NB ...</td>\n      <td></td>\n      <td>Not Enough Information, or Insufficient Locati...</td>\n      <td>NaN</td>\n      <td>Property Damage Only Collision</td>\n      <td>Parked Car</td>\n      <td>NaN</td>\n      <td>NaN</td>\n      <td>NaN</td>\n      <td>NaN</td>\n      <td>2006/11/02 00:00:00+00</td>\n      <td>11/2/2006</td>\n      <td>Mid-Block (not related to intersection)</td>\n      <td>NaN</td>\n      <td>MOTOR VEHICLE STRUCK MOTOR VEHICLE, FRONT END ...</td>\n      <td>Y</td>\n      <td>N</td>\n      <td>Clear</td>\n      <td>Dry</td>\n      <td>Daylight</td>\n      <td>Y</td>\n      <td>NaN</td>\n      <td>Y</td>\n      <td>32</td>\n      <td>One parked--one moving</td>\n      <td>NaN</td>\n      <td>NaN</td>\n      <td>N</td>\n    </tr>\n    <tr>\n      <th>freq</th>\n      <td>NaN</td>\n      <td>NaN</td>\n      <td>NaN</td>\n      <td>NaN</td>\n      <td>NaN</td>\n      <td>NaN</td>\n      <td>2</td>\n      <td>189786</td>\n      <td>126926</td>\n      <td>NaN</td>\n      <td>276</td>\n      <td>79173</td>\n      <td>5638</td>\n      <td>NaN</td>\n      <td>136485</td>\n      <td>47987</td>\n      <td>NaN</td>\n      <td>NaN</td>\n      <td>NaN</td>\n      <td>NaN</td>\n      <td>96</td>\n      <td>96</td>\n      <td>89800</td>\n      <td>NaN</td>\n      <td>85209</td>\n      <td>29805</td>\n      <td>100274</td>\n      <td>111135</td>\n      <td>124510</td>\n      <td>116137</td>\n      <td>4667</td>\n      <td>NaN</td>\n      <td>9333</td>\n      <td>27612</td>\n      <td>44421</td>\n      <td>NaN</td>\n      <td>NaN</td>\n      <td>187457</td>\n    </tr>\n    <tr>\n      <th>mean</th>\n      <td>1.298901</td>\n      <td>-122.330518</td>\n      <td>47.619543</td>\n      <td>108479.364930</td>\n      <td>141091.456350</td>\n      <td>141298.811381</td>\n      <td>NaN</td>\n      <td>NaN</td>\n      <td>NaN</td>\n      <td>37558.450576</td>\n      <td>NaN</td>\n      <td>NaN</td>\n      <td>NaN</td>\n      <td>1.298901</td>\n      <td>NaN</td>\n      <td>NaN</td>\n      <td>2.444427</td>\n      <td>0.037139</td>\n      <td>0.028391</td>\n      <td>1.920780</td>\n      <td>NaN</td>\n      <td>NaN</td>\n      <td>NaN</td>\n      <td>13.867768</td>\n      <td>NaN</td>\n      <td>NaN</td>\n      <td>NaN</td>\n      <td>NaN</td>\n      <td>NaN</td>\n      <td>NaN</td>\n      <td>NaN</td>\n      <td>7.972521e+06</td>\n      <td>NaN</td>\n      <td>NaN</td>\n      <td>NaN</td>\n      <td>269.401114</td>\n      <td>9.782452e+03</td>\n      <td>NaN</td>\n    </tr>\n    <tr>\n      <th>std</th>\n      <td>0.457778</td>\n      <td>0.029976</td>\n      <td>0.056157</td>\n      <td>62649.722558</td>\n      <td>86634.402737</td>\n      <td>86986.542110</td>\n      <td>NaN</td>\n      <td>NaN</td>\n      <td>NaN</td>\n      <td>51745.990273</td>\n      <td>NaN</td>\n      <td>NaN</td>\n      <td>NaN</td>\n      <td>0.457778</td>\n      <td>NaN</td>\n      <td>NaN</td>\n      <td>1.345929</td>\n      <td>0.198150</td>\n      <td>0.167413</td>\n      <td>0.631047</td>\n      <td>NaN</td>\n      <td>NaN</td>\n      <td>NaN</td>\n      <td>6.868755</td>\n      <td>NaN</td>\n      <td>NaN</td>\n      <td>NaN</td>\n      <td>NaN</td>\n      <td>NaN</td>\n      <td>NaN</td>\n      <td>NaN</td>\n      <td>2.553533e+06</td>\n      <td>NaN</td>\n      <td>NaN</td>\n      <td>NaN</td>\n      <td>3315.776055</td>\n      <td>7.226926e+04</td>\n      <td>NaN</td>\n    </tr>\n    <tr>\n      <th>min</th>\n      <td>1.000000</td>\n      <td>-122.419091</td>\n      <td>47.495573</td>\n      <td>1.000000</td>\n      <td>1001.000000</td>\n      <td>1001.000000</td>\n      <td>NaN</td>\n      <td>NaN</td>\n      <td>NaN</td>\n      <td>23807.000000</td>\n      <td>NaN</td>\n      <td>NaN</td>\n      <td>NaN</td>\n      <td>1.000000</td>\n      <td>NaN</td>\n      <td>NaN</td>\n      <td>0.000000</td>\n      <td>0.000000</td>\n      <td>0.000000</td>\n      <td>0.000000</td>\n      <td>NaN</td>\n      <td>NaN</td>\n      <td>NaN</td>\n      <td>0.000000</td>\n      <td>NaN</td>\n      <td>NaN</td>\n      <td>NaN</td>\n      <td>NaN</td>\n      <td>NaN</td>\n      <td>NaN</td>\n      <td>NaN</td>\n      <td>1.007024e+06</td>\n      <td>NaN</td>\n      <td>NaN</td>\n      <td>NaN</td>\n      <td>0.000000</td>\n      <td>0.000000e+00</td>\n      <td>NaN</td>\n    </tr>\n    <tr>\n      <th>25%</th>\n      <td>1.000000</td>\n      <td>-122.348673</td>\n      <td>47.575956</td>\n      <td>54267.000000</td>\n      <td>70383.000000</td>\n      <td>70383.000000</td>\n      <td>NaN</td>\n      <td>NaN</td>\n      <td>NaN</td>\n      <td>28667.000000</td>\n      <td>NaN</td>\n      <td>NaN</td>\n      <td>NaN</td>\n      <td>1.000000</td>\n      <td>NaN</td>\n      <td>NaN</td>\n      <td>2.000000</td>\n      <td>0.000000</td>\n      <td>0.000000</td>\n      <td>2.000000</td>\n      <td>NaN</td>\n      <td>NaN</td>\n      <td>NaN</td>\n      <td>11.000000</td>\n      <td>NaN</td>\n      <td>NaN</td>\n      <td>NaN</td>\n      <td>NaN</td>\n      <td>NaN</td>\n      <td>NaN</td>\n      <td>NaN</td>\n      <td>6.040015e+06</td>\n      <td>NaN</td>\n      <td>NaN</td>\n      <td>NaN</td>\n      <td>0.000000</td>\n      <td>0.000000e+00</td>\n      <td>NaN</td>\n    </tr>\n    <tr>\n      <th>50%</th>\n      <td>1.000000</td>\n      <td>-122.330224</td>\n      <td>47.615369</td>\n      <td>106912.000000</td>\n      <td>123363.000000</td>\n      <td>123363.000000</td>\n      <td>NaN</td>\n      <td>NaN</td>\n      <td>NaN</td>\n      <td>29973.000000</td>\n      <td>NaN</td>\n      <td>NaN</td>\n      <td>NaN</td>\n      <td>1.000000</td>\n      <td>NaN</td>\n      <td>NaN</td>\n      <td>2.000000</td>\n      <td>0.000000</td>\n      <td>0.000000</td>\n      <td>2.000000</td>\n      <td>NaN</td>\n      <td>NaN</td>\n      <td>NaN</td>\n      <td>13.000000</td>\n      <td>NaN</td>\n      <td>NaN</td>\n      <td>NaN</td>\n      <td>NaN</td>\n      <td>NaN</td>\n      <td>NaN</td>\n      <td>NaN</td>\n      <td>8.023022e+06</td>\n      <td>NaN</td>\n      <td>NaN</td>\n      <td>NaN</td>\n      <td>0.000000</td>\n      <td>0.000000e+00</td>\n      <td>NaN</td>\n    </tr>\n    <tr>\n      <th>75%</th>\n      <td>2.000000</td>\n      <td>-122.311937</td>\n      <td>47.663664</td>\n      <td>162272.000000</td>\n      <td>203319.000000</td>\n      <td>203459.000000</td>\n      <td>NaN</td>\n      <td>NaN</td>\n      <td>NaN</td>\n      <td>33973.000000</td>\n      <td>NaN</td>\n      <td>NaN</td>\n      <td>NaN</td>\n      <td>2.000000</td>\n      <td>NaN</td>\n      <td>NaN</td>\n      <td>3.000000</td>\n      <td>0.000000</td>\n      <td>0.000000</td>\n      <td>2.000000</td>\n      <td>NaN</td>\n      <td>NaN</td>\n      <td>NaN</td>\n      <td>14.000000</td>\n      <td>NaN</td>\n      <td>NaN</td>\n      <td>NaN</td>\n      <td>NaN</td>\n      <td>NaN</td>\n      <td>NaN</td>\n      <td>NaN</td>\n      <td>1.015501e+07</td>\n      <td>NaN</td>\n      <td>NaN</td>\n      <td>NaN</td>\n      <td>0.000000</td>\n      <td>0.000000e+00</td>\n      <td>NaN</td>\n    </tr>\n    <tr>\n      <th>max</th>\n      <td>2.000000</td>\n      <td>-122.238949</td>\n      <td>47.734142</td>\n      <td>219547.000000</td>\n      <td>331454.000000</td>\n      <td>332954.000000</td>\n      <td>NaN</td>\n      <td>NaN</td>\n      <td>NaN</td>\n      <td>757580.000000</td>\n      <td>NaN</td>\n      <td>NaN</td>\n      <td>NaN</td>\n      <td>2.000000</td>\n      <td>NaN</td>\n      <td>NaN</td>\n      <td>81.000000</td>\n      <td>6.000000</td>\n      <td>2.000000</td>\n      <td>12.000000</td>\n      <td>NaN</td>\n      <td>NaN</td>\n      <td>NaN</td>\n      <td>69.000000</td>\n      <td>NaN</td>\n      <td>NaN</td>\n      <td>NaN</td>\n      <td>NaN</td>\n      <td>NaN</td>\n      <td>NaN</td>\n      <td>NaN</td>\n      <td>1.307202e+07</td>\n      <td>NaN</td>\n      <td>NaN</td>\n      <td>NaN</td>\n      <td>525241.000000</td>\n      <td>5.239700e+06</td>\n      <td>NaN</td>\n    </tr>\n  </tbody>\n</table>\n</div>",
                        "text/plain": "         SEVERITYCODE              X              Y       OBJECTID  \\\ncount   194673.000000  189339.000000  189339.000000  194673.000000   \nunique            NaN            NaN            NaN            NaN   \ntop               NaN            NaN            NaN            NaN   \nfreq              NaN            NaN            NaN            NaN   \nmean         1.298901    -122.330518      47.619543  108479.364930   \nstd          0.457778       0.029976       0.056157   62649.722558   \nmin          1.000000    -122.419091      47.495573       1.000000   \n25%          1.000000    -122.348673      47.575956   54267.000000   \n50%          1.000000    -122.330224      47.615369  106912.000000   \n75%          2.000000    -122.311937      47.663664  162272.000000   \nmax          2.000000    -122.238949      47.734142  219547.000000   \n\n               INCKEY      COLDETKEY REPORTNO   STATUS ADDRTYPE  \\\ncount   194673.000000  194673.000000   194673   194673   192747   \nunique            NaN            NaN   194670        2        3   \ntop               NaN            NaN  1782439  Matched    Block   \nfreq              NaN            NaN        2   189786   126926   \nmean    141091.456350  141298.811381      NaN      NaN      NaN   \nstd      86634.402737   86986.542110      NaN      NaN      NaN   \nmin       1001.000000    1001.000000      NaN      NaN      NaN   \n25%      70383.000000   70383.000000      NaN      NaN      NaN   \n50%     123363.000000  123363.000000      NaN      NaN      NaN   \n75%     203319.000000  203459.000000      NaN      NaN      NaN   \nmax     331454.000000  332954.000000      NaN      NaN      NaN   \n\n               INTKEY                                           LOCATION  \\\ncount    65070.000000                                             191996   \nunique            NaN                                              24102   \ntop               NaN  BATTERY ST TUNNEL NB BETWEEN ALASKAN WY VI NB ...   \nfreq              NaN                                                276   \nmean     37558.450576                                                NaN   \nstd      51745.990273                                                NaN   \nmin      23807.000000                                                NaN   \n25%      28667.000000                                                NaN   \n50%      29973.000000                                                NaN   \n75%      33973.000000                                                NaN   \nmax     757580.000000                                                NaN   \n\n       EXCEPTRSNCODE                                      EXCEPTRSNDESC  \\\ncount          84811                                               5638   \nunique             2                                                  1   \ntop                   Not Enough Information, or Insufficient Locati...   \nfreq           79173                                               5638   \nmean             NaN                                                NaN   \nstd              NaN                                                NaN   \nmin              NaN                                                NaN   \n25%              NaN                                                NaN   \n50%              NaN                                                NaN   \n75%              NaN                                                NaN   \nmax              NaN                                                NaN   \n\n        SEVERITYCODE.1                    SEVERITYDESC COLLISIONTYPE  \\\ncount    194673.000000                          194673        189769   \nunique             NaN                               2            10   \ntop                NaN  Property Damage Only Collision    Parked Car   \nfreq               NaN                          136485         47987   \nmean          1.298901                             NaN           NaN   \nstd           0.457778                             NaN           NaN   \nmin           1.000000                             NaN           NaN   \n25%           1.000000                             NaN           NaN   \n50%           1.000000                             NaN           NaN   \n75%           2.000000                             NaN           NaN   \nmax           2.000000                             NaN           NaN   \n\n          PERSONCOUNT       PEDCOUNT    PEDCYLCOUNT       VEHCOUNT  \\\ncount   194673.000000  194673.000000  194673.000000  194673.000000   \nunique            NaN            NaN            NaN            NaN   \ntop               NaN            NaN            NaN            NaN   \nfreq              NaN            NaN            NaN            NaN   \nmean         2.444427       0.037139       0.028391       1.920780   \nstd          1.345929       0.198150       0.167413       0.631047   \nmin          0.000000       0.000000       0.000000       0.000000   \n25%          2.000000       0.000000       0.000000       2.000000   \n50%          2.000000       0.000000       0.000000       2.000000   \n75%          3.000000       0.000000       0.000000       2.000000   \nmax         81.000000       6.000000       2.000000      12.000000   \n\n                       INCDATE    INCDTTM  \\\ncount                   194673     194673   \nunique                    5985     162058   \ntop     2006/11/02 00:00:00+00  11/2/2006   \nfreq                        96         96   \nmean                       NaN        NaN   \nstd                        NaN        NaN   \nmin                        NaN        NaN   \n25%                        NaN        NaN   \n50%                        NaN        NaN   \n75%                        NaN        NaN   \nmax                        NaN        NaN   \n\n                                   JUNCTIONTYPE   SDOT_COLCODE  \\\ncount                                    188344  194673.000000   \nunique                                        7            NaN   \ntop     Mid-Block (not related to intersection)            NaN   \nfreq                                      89800            NaN   \nmean                                        NaN      13.867768   \nstd                                         NaN       6.868755   \nmin                                         NaN       0.000000   \n25%                                         NaN      11.000000   \n50%                                         NaN      13.000000   \n75%                                         NaN      14.000000   \nmax                                         NaN      69.000000   \n\n                                             SDOT_COLDESC INATTENTIONIND  \\\ncount                                              194673          29805   \nunique                                                 39              1   \ntop     MOTOR VEHICLE STRUCK MOTOR VEHICLE, FRONT END ...              Y   \nfreq                                                85209          29805   \nmean                                                  NaN            NaN   \nstd                                                   NaN            NaN   \nmin                                                   NaN            NaN   \n25%                                                   NaN            NaN   \n50%                                                   NaN            NaN   \n75%                                                   NaN            NaN   \nmax                                                   NaN            NaN   \n\n       UNDERINFL WEATHER ROADCOND LIGHTCOND PEDROWNOTGRNT    SDOTCOLNUM  \\\ncount     189789  189592   189661    189503          4667  1.149360e+05   \nunique         4      11        9         9             1           NaN   \ntop            N   Clear      Dry  Daylight             Y           NaN   \nfreq      100274  111135   124510    116137          4667           NaN   \nmean         NaN     NaN      NaN       NaN           NaN  7.972521e+06   \nstd          NaN     NaN      NaN       NaN           NaN  2.553533e+06   \nmin          NaN     NaN      NaN       NaN           NaN  1.007024e+06   \n25%          NaN     NaN      NaN       NaN           NaN  6.040015e+06   \n50%          NaN     NaN      NaN       NaN           NaN  8.023022e+06   \n75%          NaN     NaN      NaN       NaN           NaN  1.015501e+07   \nmax          NaN     NaN      NaN       NaN           NaN  1.307202e+07   \n\n       SPEEDING ST_COLCODE              ST_COLDESC     SEGLANEKEY  \\\ncount      9333     194655                  189769  194673.000000   \nunique        1        115                      62            NaN   \ntop           Y         32  One parked--one moving            NaN   \nfreq       9333      27612                   44421            NaN   \nmean        NaN        NaN                     NaN     269.401114   \nstd         NaN        NaN                     NaN    3315.776055   \nmin         NaN        NaN                     NaN       0.000000   \n25%         NaN        NaN                     NaN       0.000000   \n50%         NaN        NaN                     NaN       0.000000   \n75%         NaN        NaN                     NaN       0.000000   \nmax         NaN        NaN                     NaN  525241.000000   \n\n        CROSSWALKKEY HITPARKEDCAR  \ncount   1.946730e+05       194673  \nunique           NaN            2  \ntop              NaN            N  \nfreq             NaN       187457  \nmean    9.782452e+03          NaN  \nstd     7.226926e+04          NaN  \nmin     0.000000e+00          NaN  \n25%     0.000000e+00          NaN  \n50%     0.000000e+00          NaN  \n75%     0.000000e+00          NaN  \nmax     5.239700e+06          NaN  "
                    },
                    "execution_count": 48,
                    "metadata": {},
                    "output_type": "execute_result"
                }
            ],
            "source": "t_df.describe(include='all')"
        },
        {
            "cell_type": "markdown",
            "metadata": {},
            "source": "#### Columns to drop since majority of data is missing: EXCEPTRSNDESC INTKEY EXCEPTRSNCODE INATTENTIONIND PEDROWNOTGRNT SPEEDING"
        },
        {
            "cell_type": "code",
            "execution_count": 49,
            "metadata": {},
            "outputs": [],
            "source": "t_df.drop(['EXCEPTRSNDESC','INTKEY','EXCEPTRSNCODE','INATTENTIONIND','PEDROWNOTGRNT','SPEEDING'], axis=1, inplace=True)"
        },
        {
            "cell_type": "code",
            "execution_count": 50,
            "metadata": {},
            "outputs": [],
            "source": "t_df.drop(['SDOTCOLNUM'], axis=1, inplace=True)"
        },
        {
            "cell_type": "code",
            "execution_count": 51,
            "metadata": {},
            "outputs": [],
            "source": "t_df.drop(['ST_COLCODE'], axis=1, inplace=True)"
        },
        {
            "cell_type": "code",
            "execution_count": 52,
            "metadata": {},
            "outputs": [
                {
                    "data": {
                        "text/plain": "(194673, 30)"
                    },
                    "execution_count": 52,
                    "metadata": {},
                    "output_type": "execute_result"
                }
            ],
            "source": "t_df.shape"
        },
        {
            "cell_type": "markdown",
            "metadata": {},
            "source": "#### Replacing continuous data by mean of column"
        },
        {
            "cell_type": "markdown",
            "metadata": {},
            "source": "##### Rounded mean for coordinates columns X and Y"
        },
        {
            "cell_type": "code",
            "execution_count": 53,
            "metadata": {},
            "outputs": [
                {
                    "name": "stdout",
                    "output_type": "stream",
                    "text": "Average of X coordinate: -122.330518\n"
                }
            ],
            "source": "avg_x = round(t_df[\"X\"].astype(\"float\").mean(axis=0),6)\nprint(\"Average of X coordinate:\", avg_x)"
        },
        {
            "cell_type": "code",
            "execution_count": 54,
            "metadata": {},
            "outputs": [
                {
                    "name": "stdout",
                    "output_type": "stream",
                    "text": "Average of X coordinate: 47.619543\n"
                }
            ],
            "source": "avg_y = round(t_df[\"Y\"].astype(\"float\").mean(axis=0),6)\nprint(\"Average of X coordinate:\", avg_y)"
        },
        {
            "cell_type": "code",
            "execution_count": 55,
            "metadata": {},
            "outputs": [
                {
                    "data": {
                        "text/html": "<div>\n<style scoped>\n    .dataframe tbody tr th:only-of-type {\n        vertical-align: middle;\n    }\n\n    .dataframe tbody tr th {\n        vertical-align: top;\n    }\n\n    .dataframe thead th {\n        text-align: right;\n    }\n</style>\n<table border=\"1\" class=\"dataframe\">\n  <thead>\n    <tr style=\"text-align: right;\">\n      <th></th>\n      <th>SEVERITYCODE</th>\n      <th>X</th>\n      <th>Y</th>\n      <th>OBJECTID</th>\n      <th>INCKEY</th>\n      <th>COLDETKEY</th>\n      <th>REPORTNO</th>\n      <th>STATUS</th>\n      <th>ADDRTYPE</th>\n      <th>LOCATION</th>\n      <th>SEVERITYCODE.1</th>\n      <th>SEVERITYDESC</th>\n      <th>COLLISIONTYPE</th>\n      <th>PERSONCOUNT</th>\n      <th>PEDCOUNT</th>\n      <th>PEDCYLCOUNT</th>\n      <th>VEHCOUNT</th>\n      <th>INCDATE</th>\n      <th>INCDTTM</th>\n      <th>JUNCTIONTYPE</th>\n      <th>SDOT_COLCODE</th>\n      <th>SDOT_COLDESC</th>\n      <th>UNDERINFL</th>\n      <th>WEATHER</th>\n      <th>ROADCOND</th>\n      <th>LIGHTCOND</th>\n      <th>ST_COLDESC</th>\n      <th>SEGLANEKEY</th>\n      <th>CROSSWALKKEY</th>\n      <th>HITPARKEDCAR</th>\n    </tr>\n  </thead>\n  <tbody>\n    <tr>\n      <th>0</th>\n      <td>2</td>\n      <td>-122.323148</td>\n      <td>47.703140</td>\n      <td>1</td>\n      <td>1307</td>\n      <td>1307</td>\n      <td>3502005</td>\n      <td>Matched</td>\n      <td>Intersection</td>\n      <td>5TH AVE NE AND NE 103RD ST</td>\n      <td>2</td>\n      <td>Injury Collision</td>\n      <td>Angles</td>\n      <td>2</td>\n      <td>0</td>\n      <td>0</td>\n      <td>2</td>\n      <td>2013/03/27 00:00:00+00</td>\n      <td>3/27/2013 2:54:00 PM</td>\n      <td>At Intersection (intersection related)</td>\n      <td>11</td>\n      <td>MOTOR VEHICLE STRUCK MOTOR VEHICLE, FRONT END ...</td>\n      <td>N</td>\n      <td>Overcast</td>\n      <td>Wet</td>\n      <td>Daylight</td>\n      <td>Entering at angle</td>\n      <td>0</td>\n      <td>0</td>\n      <td>N</td>\n    </tr>\n    <tr>\n      <th>1</th>\n      <td>1</td>\n      <td>-122.347294</td>\n      <td>47.647172</td>\n      <td>2</td>\n      <td>52200</td>\n      <td>52200</td>\n      <td>2607959</td>\n      <td>Matched</td>\n      <td>Block</td>\n      <td>AURORA BR BETWEEN RAYE ST AND BRIDGE WAY N</td>\n      <td>1</td>\n      <td>Property Damage Only Collision</td>\n      <td>Sideswipe</td>\n      <td>2</td>\n      <td>0</td>\n      <td>0</td>\n      <td>2</td>\n      <td>2006/12/20 00:00:00+00</td>\n      <td>12/20/2006 6:55:00 PM</td>\n      <td>Mid-Block (not related to intersection)</td>\n      <td>16</td>\n      <td>MOTOR VEHICLE STRUCK MOTOR VEHICLE, LEFT SIDE ...</td>\n      <td>0</td>\n      <td>Raining</td>\n      <td>Wet</td>\n      <td>Dark - Street Lights On</td>\n      <td>From same direction - both going straight - bo...</td>\n      <td>0</td>\n      <td>0</td>\n      <td>N</td>\n    </tr>\n    <tr>\n      <th>2</th>\n      <td>1</td>\n      <td>-122.334540</td>\n      <td>47.607871</td>\n      <td>3</td>\n      <td>26700</td>\n      <td>26700</td>\n      <td>1482393</td>\n      <td>Matched</td>\n      <td>Block</td>\n      <td>4TH AVE BETWEEN SENECA ST AND UNIVERSITY ST</td>\n      <td>1</td>\n      <td>Property Damage Only Collision</td>\n      <td>Parked Car</td>\n      <td>4</td>\n      <td>0</td>\n      <td>0</td>\n      <td>3</td>\n      <td>2004/11/18 00:00:00+00</td>\n      <td>11/18/2004 10:20:00 AM</td>\n      <td>Mid-Block (not related to intersection)</td>\n      <td>14</td>\n      <td>MOTOR VEHICLE STRUCK MOTOR VEHICLE, REAR END</td>\n      <td>0</td>\n      <td>Overcast</td>\n      <td>Dry</td>\n      <td>Daylight</td>\n      <td>One parked--one moving</td>\n      <td>0</td>\n      <td>0</td>\n      <td>N</td>\n    </tr>\n    <tr>\n      <th>3</th>\n      <td>1</td>\n      <td>-122.334803</td>\n      <td>47.604803</td>\n      <td>4</td>\n      <td>1144</td>\n      <td>1144</td>\n      <td>3503937</td>\n      <td>Matched</td>\n      <td>Block</td>\n      <td>2ND AVE BETWEEN MARION ST AND MADISON ST</td>\n      <td>1</td>\n      <td>Property Damage Only Collision</td>\n      <td>Other</td>\n      <td>3</td>\n      <td>0</td>\n      <td>0</td>\n      <td>3</td>\n      <td>2013/03/29 00:00:00+00</td>\n      <td>3/29/2013 9:26:00 AM</td>\n      <td>Mid-Block (not related to intersection)</td>\n      <td>11</td>\n      <td>MOTOR VEHICLE STRUCK MOTOR VEHICLE, FRONT END ...</td>\n      <td>N</td>\n      <td>Clear</td>\n      <td>Dry</td>\n      <td>Daylight</td>\n      <td>From same direction - all others</td>\n      <td>0</td>\n      <td>0</td>\n      <td>N</td>\n    </tr>\n    <tr>\n      <th>4</th>\n      <td>2</td>\n      <td>-122.306426</td>\n      <td>47.545739</td>\n      <td>5</td>\n      <td>17700</td>\n      <td>17700</td>\n      <td>1807429</td>\n      <td>Matched</td>\n      <td>Intersection</td>\n      <td>SWIFT AVE S AND SWIFT AV OFF RP</td>\n      <td>2</td>\n      <td>Injury Collision</td>\n      <td>Angles</td>\n      <td>2</td>\n      <td>0</td>\n      <td>0</td>\n      <td>2</td>\n      <td>2004/01/28 00:00:00+00</td>\n      <td>1/28/2004 8:04:00 AM</td>\n      <td>At Intersection (intersection related)</td>\n      <td>11</td>\n      <td>MOTOR VEHICLE STRUCK MOTOR VEHICLE, FRONT END ...</td>\n      <td>0</td>\n      <td>Raining</td>\n      <td>Wet</td>\n      <td>Daylight</td>\n      <td>Entering at angle</td>\n      <td>0</td>\n      <td>0</td>\n      <td>N</td>\n    </tr>\n    <tr>\n      <th>5</th>\n      <td>1</td>\n      <td>-122.387598</td>\n      <td>47.690575</td>\n      <td>6</td>\n      <td>320840</td>\n      <td>322340</td>\n      <td>E919477</td>\n      <td>Matched</td>\n      <td>Intersection</td>\n      <td>24TH AVE NW AND NW 85TH ST</td>\n      <td>1</td>\n      <td>Property Damage Only Collision</td>\n      <td>Angles</td>\n      <td>2</td>\n      <td>0</td>\n      <td>0</td>\n      <td>2</td>\n      <td>2019/04/20 00:00:00+00</td>\n      <td>4/20/2019 5:42:00 PM</td>\n      <td>At Intersection (intersection related)</td>\n      <td>11</td>\n      <td>MOTOR VEHICLE STRUCK MOTOR VEHICLE, FRONT END ...</td>\n      <td>N</td>\n      <td>Clear</td>\n      <td>Dry</td>\n      <td>Daylight</td>\n      <td>Entering at angle</td>\n      <td>0</td>\n      <td>0</td>\n      <td>N</td>\n    </tr>\n    <tr>\n      <th>6</th>\n      <td>1</td>\n      <td>-122.338485</td>\n      <td>47.618534</td>\n      <td>7</td>\n      <td>83300</td>\n      <td>83300</td>\n      <td>3282542</td>\n      <td>Matched</td>\n      <td>Intersection</td>\n      <td>DENNY WAY AND WESTLAKE AVE</td>\n      <td>1</td>\n      <td>Property Damage Only Collision</td>\n      <td>Angles</td>\n      <td>2</td>\n      <td>0</td>\n      <td>0</td>\n      <td>2</td>\n      <td>2008/12/09 00:00:00+00</td>\n      <td>12/9/2008</td>\n      <td>At Intersection (intersection related)</td>\n      <td>11</td>\n      <td>MOTOR VEHICLE STRUCK MOTOR VEHICLE, FRONT END ...</td>\n      <td>0</td>\n      <td>Raining</td>\n      <td>Wet</td>\n      <td>Daylight</td>\n      <td>Entering at angle</td>\n      <td>0</td>\n      <td>0</td>\n      <td>N</td>\n    </tr>\n    <tr>\n      <th>7</th>\n      <td>2</td>\n      <td>-122.320780</td>\n      <td>47.614076</td>\n      <td>9</td>\n      <td>330897</td>\n      <td>332397</td>\n      <td>EA30304</td>\n      <td>Matched</td>\n      <td>Intersection</td>\n      <td>BROADWAY AND E PIKE ST</td>\n      <td>2</td>\n      <td>Injury Collision</td>\n      <td>Cycles</td>\n      <td>3</td>\n      <td>0</td>\n      <td>1</td>\n      <td>1</td>\n      <td>2020/04/15 00:00:00+00</td>\n      <td>4/15/2020 5:47:00 PM</td>\n      <td>At Intersection (intersection related)</td>\n      <td>51</td>\n      <td>PEDALCYCLIST STRUCK MOTOR VEHICLE FRONT END AT...</td>\n      <td>N</td>\n      <td>Clear</td>\n      <td>Dry</td>\n      <td>Daylight</td>\n      <td>Vehicle Strikes Pedalcyclist</td>\n      <td>6855</td>\n      <td>0</td>\n      <td>N</td>\n    </tr>\n    <tr>\n      <th>8</th>\n      <td>1</td>\n      <td>-122.335930</td>\n      <td>47.611904</td>\n      <td>10</td>\n      <td>63400</td>\n      <td>63400</td>\n      <td>2071243</td>\n      <td>Matched</td>\n      <td>Block</td>\n      <td>PINE ST BETWEEN 5TH AVE AND 6TH AVE</td>\n      <td>1</td>\n      <td>Property Damage Only Collision</td>\n      <td>Parked Car</td>\n      <td>2</td>\n      <td>0</td>\n      <td>0</td>\n      <td>2</td>\n      <td>2006/06/15 00:00:00+00</td>\n      <td>6/15/2006 1:00:00 PM</td>\n      <td>Mid-Block (not related to intersection)</td>\n      <td>11</td>\n      <td>MOTOR VEHICLE STRUCK MOTOR VEHICLE, FRONT END ...</td>\n      <td>0</td>\n      <td>Clear</td>\n      <td>Dry</td>\n      <td>Daylight</td>\n      <td>One parked--one moving</td>\n      <td>0</td>\n      <td>0</td>\n      <td>N</td>\n    </tr>\n    <tr>\n      <th>9</th>\n      <td>2</td>\n      <td>-122.384700</td>\n      <td>47.528475</td>\n      <td>12</td>\n      <td>58600</td>\n      <td>58600</td>\n      <td>2072105</td>\n      <td>Matched</td>\n      <td>Intersection</td>\n      <td>41ST AVE SW AND SW THISTLE ST</td>\n      <td>2</td>\n      <td>Injury Collision</td>\n      <td>Angles</td>\n      <td>2</td>\n      <td>0</td>\n      <td>0</td>\n      <td>2</td>\n      <td>2006/03/20 00:00:00+00</td>\n      <td>3/20/2006 3:49:00 PM</td>\n      <td>At Intersection (intersection related)</td>\n      <td>11</td>\n      <td>MOTOR VEHICLE STRUCK MOTOR VEHICLE, FRONT END ...</td>\n      <td>0</td>\n      <td>Clear</td>\n      <td>Dry</td>\n      <td>Daylight</td>\n      <td>Entering at angle</td>\n      <td>0</td>\n      <td>0</td>\n      <td>N</td>\n    </tr>\n    <tr>\n      <th>10</th>\n      <td>1</td>\n      <td>-122.330518</td>\n      <td>47.619543</td>\n      <td>14</td>\n      <td>48900</td>\n      <td>48900</td>\n      <td>2024040</td>\n      <td>Matched</td>\n      <td>Alley</td>\n      <td>NaN</td>\n      <td>1</td>\n      <td>Property Damage Only Collision</td>\n      <td>Other</td>\n      <td>2</td>\n      <td>0</td>\n      <td>0</td>\n      <td>2</td>\n      <td>2006/05/25 00:00:00+00</td>\n      <td>5/25/2006 6:20:00 PM</td>\n      <td>Driveway Junction</td>\n      <td>11</td>\n      <td>MOTOR VEHICLE STRUCK MOTOR VEHICLE, FRONT END ...</td>\n      <td>0</td>\n      <td>Overcast</td>\n      <td>Dry</td>\n      <td>Daylight</td>\n      <td>One car leaving driveway access</td>\n      <td>0</td>\n      <td>0</td>\n      <td>N</td>\n    </tr>\n    <tr>\n      <th>11</th>\n      <td>1</td>\n      <td>-122.333831</td>\n      <td>47.547371</td>\n      <td>15</td>\n      <td>38800</td>\n      <td>38800</td>\n      <td>C654800</td>\n      <td>Matched</td>\n      <td>Intersection</td>\n      <td>1ST AV S BR NB AND EAST MARGINAL WAY S</td>\n      <td>1</td>\n      <td>Property Damage Only Collision</td>\n      <td>Angles</td>\n      <td>2</td>\n      <td>0</td>\n      <td>0</td>\n      <td>2</td>\n      <td>2005/08/11 00:00:00+00</td>\n      <td>8/11/2005 5:30:00 PM</td>\n      <td>At Intersection (intersection related)</td>\n      <td>11</td>\n      <td>MOTOR VEHICLE STRUCK MOTOR VEHICLE, FRONT END ...</td>\n      <td>0</td>\n      <td>Clear</td>\n      <td>Dry</td>\n      <td>Daylight</td>\n      <td>Entering at angle</td>\n      <td>0</td>\n      <td>0</td>\n      <td>N</td>\n    </tr>\n    <tr>\n      <th>12</th>\n      <td>1</td>\n      <td>-122.356273</td>\n      <td>47.571375</td>\n      <td>16</td>\n      <td>2771</td>\n      <td>2771</td>\n      <td>1211870</td>\n      <td>Unmatched</td>\n      <td>Block</td>\n      <td>SW SPOKANE ST BETWEEN SW SPOKANE W BR AND TERM...</td>\n      <td>1</td>\n      <td>Property Damage Only Collision</td>\n      <td>Rear Ended</td>\n      <td>0</td>\n      <td>0</td>\n      <td>0</td>\n      <td>2</td>\n      <td>2006/05/17 00:00:00+00</td>\n      <td>5/17/2006 12:51:00 PM</td>\n      <td>Mid-Block (not related to intersection)</td>\n      <td>14</td>\n      <td>MOTOR VEHICLE STRUCK MOTOR VEHICLE, REAR END</td>\n      <td>0</td>\n      <td>Raining</td>\n      <td>Wet</td>\n      <td>Dark - Street Lights On</td>\n      <td>From same direction - both going straight - on...</td>\n      <td>0</td>\n      <td>0</td>\n      <td>N</td>\n    </tr>\n    <tr>\n      <th>13</th>\n      <td>1</td>\n      <td>-122.323966</td>\n      <td>47.606374</td>\n      <td>17</td>\n      <td>32800</td>\n      <td>32800</td>\n      <td>2128498</td>\n      <td>Matched</td>\n      <td>Block</td>\n      <td>TERRY AVE BETWEEN JAMES ST AND CHERRY ST</td>\n      <td>1</td>\n      <td>Property Damage Only Collision</td>\n      <td>Parked Car</td>\n      <td>2</td>\n      <td>0</td>\n      <td>0</td>\n      <td>2</td>\n      <td>2005/12/22 00:00:00+00</td>\n      <td>12/22/2005 5:13:00 PM</td>\n      <td>Mid-Block (not related to intersection)</td>\n      <td>13</td>\n      <td>MOTOR VEHICLE STRUCK MOTOR VEHICLE, LEFT SIDE ...</td>\n      <td>0</td>\n      <td>Raining</td>\n      <td>Wet</td>\n      <td>Dark - No Street Lights</td>\n      <td>One parked--one moving</td>\n      <td>0</td>\n      <td>0</td>\n      <td>N</td>\n    </tr>\n    <tr>\n      <th>14</th>\n      <td>2</td>\n      <td>-122.317414</td>\n      <td>47.664028</td>\n      <td>19</td>\n      <td>1212</td>\n      <td>1212</td>\n      <td>3507861</td>\n      <td>Matched</td>\n      <td>Block</td>\n      <td>ROOSEVELT WAY NE BETWEEN NE 47TH ST AND NE 50T...</td>\n      <td>2</td>\n      <td>Injury Collision</td>\n      <td>Head On</td>\n      <td>2</td>\n      <td>0</td>\n      <td>0</td>\n      <td>2</td>\n      <td>2013/03/31 00:00:00+00</td>\n      <td>3/31/2013 2:09:00 AM</td>\n      <td>Mid-Block (not related to intersection)</td>\n      <td>11</td>\n      <td>MOTOR VEHICLE STRUCK MOTOR VEHICLE, FRONT END ...</td>\n      <td>N</td>\n      <td>Clear</td>\n      <td>Dry</td>\n      <td>Dark - Street Lights On</td>\n      <td>From opposite direction - all others</td>\n      <td>0</td>\n      <td>0</td>\n      <td>N</td>\n    </tr>\n    <tr>\n      <th>15</th>\n      <td>1</td>\n      <td>-122.337663</td>\n      <td>47.617510</td>\n      <td>20</td>\n      <td>330878</td>\n      <td>332378</td>\n      <td>3838086</td>\n      <td>Unmatched</td>\n      <td>Block</td>\n      <td>9TH AVE BETWEEN LENORA ST AND BLANCHARD ST</td>\n      <td>1</td>\n      <td>Property Damage Only Collision</td>\n      <td>NaN</td>\n      <td>1</td>\n      <td>0</td>\n      <td>0</td>\n      <td>0</td>\n      <td>2020/04/20 00:00:00+00</td>\n      <td>4/20/2020</td>\n      <td>Driveway Junction</td>\n      <td>26</td>\n      <td>MOTOR VEHICLE STRUCK OBJECT IN ROAD</td>\n      <td>NaN</td>\n      <td>NaN</td>\n      <td>NaN</td>\n      <td>NaN</td>\n      <td>NaN</td>\n      <td>0</td>\n      <td>0</td>\n      <td>N</td>\n    </tr>\n    <tr>\n      <th>16</th>\n      <td>2</td>\n      <td>-122.344539</td>\n      <td>47.692012</td>\n      <td>21</td>\n      <td>46300</td>\n      <td>46300</td>\n      <td>2023080</td>\n      <td>Matched</td>\n      <td>Intersection</td>\n      <td>AURORA AVE N AND N 87TH ST</td>\n      <td>2</td>\n      <td>Injury Collision</td>\n      <td>Left Turn</td>\n      <td>3</td>\n      <td>0</td>\n      <td>0</td>\n      <td>2</td>\n      <td>2005/07/01 00:00:00+00</td>\n      <td>7/1/2005</td>\n      <td>At Intersection (intersection related)</td>\n      <td>11</td>\n      <td>MOTOR VEHICLE STRUCK MOTOR VEHICLE, FRONT END ...</td>\n      <td>0</td>\n      <td>Overcast</td>\n      <td>Dry</td>\n      <td>Daylight</td>\n      <td>From opposite direction - one left turn - one ...</td>\n      <td>0</td>\n      <td>0</td>\n      <td>N</td>\n    </tr>\n    <tr>\n      <th>17</th>\n      <td>1</td>\n      <td>-122.330518</td>\n      <td>47.619543</td>\n      <td>23</td>\n      <td>23000</td>\n      <td>23000</td>\n      <td>537838</td>\n      <td>Matched</td>\n      <td>Block</td>\n      <td>BATTERY ST TUN ON RP BETWEEN BELL ST AND ALASK...</td>\n      <td>1</td>\n      <td>Property Damage Only Collision</td>\n      <td>Rear Ended</td>\n      <td>0</td>\n      <td>0</td>\n      <td>0</td>\n      <td>2</td>\n      <td>2004/01/16 00:00:00+00</td>\n      <td>1/16/2004 8:25:00 AM</td>\n      <td>Mid-Block (but intersection related)</td>\n      <td>14</td>\n      <td>MOTOR VEHICLE STRUCK MOTOR VEHICLE, REAR END</td>\n      <td>0</td>\n      <td>Overcast</td>\n      <td>Dry</td>\n      <td>Daylight</td>\n      <td>From same direction - both going straight - on...</td>\n      <td>0</td>\n      <td>0</td>\n      <td>N</td>\n    </tr>\n    <tr>\n      <th>18</th>\n      <td>2</td>\n      <td>-122.328270</td>\n      <td>47.571420</td>\n      <td>24</td>\n      <td>330833</td>\n      <td>332333</td>\n      <td>EA29752</td>\n      <td>Matched</td>\n      <td>Block</td>\n      <td>S SPOKANE SR ST BETWEEN 4TH AVE S AND 5TH AVE S</td>\n      <td>2</td>\n      <td>Injury Collision</td>\n      <td>Rear Ended</td>\n      <td>4</td>\n      <td>0</td>\n      <td>0</td>\n      <td>3</td>\n      <td>2020/04/17 00:00:00+00</td>\n      <td>4/17/2020 2:44:00 PM</td>\n      <td>Mid-Block (not related to intersection)</td>\n      <td>14</td>\n      <td>MOTOR VEHICLE STRUCK MOTOR VEHICLE, REAR END</td>\n      <td>N</td>\n      <td>Clear</td>\n      <td>Dry</td>\n      <td>Daylight</td>\n      <td>From same direction - both going straight - on...</td>\n      <td>0</td>\n      <td>0</td>\n      <td>N</td>\n    </tr>\n    <tr>\n      <th>19</th>\n      <td>1</td>\n      <td>-122.383802</td>\n      <td>47.583715</td>\n      <td>25</td>\n      <td>97100</td>\n      <td>97100</td>\n      <td>2894590</td>\n      <td>Matched</td>\n      <td>Block</td>\n      <td>41ST AVE SW BETWEEN SW WALKER ST AND SW COLLEG...</td>\n      <td>1</td>\n      <td>Property Damage Only Collision</td>\n      <td>Parked Car</td>\n      <td>2</td>\n      <td>0</td>\n      <td>0</td>\n      <td>2</td>\n      <td>2009/06/01 00:00:00+00</td>\n      <td>6/1/2009</td>\n      <td>Mid-Block (not related to intersection)</td>\n      <td>11</td>\n      <td>MOTOR VEHICLE STRUCK MOTOR VEHICLE, FRONT END ...</td>\n      <td>0</td>\n      <td>Unknown</td>\n      <td>Dry</td>\n      <td>Unknown</td>\n      <td>One parked--one moving</td>\n      <td>0</td>\n      <td>0</td>\n      <td>N</td>\n    </tr>\n  </tbody>\n</table>\n</div>",
                        "text/plain": "    SEVERITYCODE           X          Y  OBJECTID  INCKEY  COLDETKEY REPORTNO  \\\n0              2 -122.323148  47.703140         1    1307       1307  3502005   \n1              1 -122.347294  47.647172         2   52200      52200  2607959   \n2              1 -122.334540  47.607871         3   26700      26700  1482393   \n3              1 -122.334803  47.604803         4    1144       1144  3503937   \n4              2 -122.306426  47.545739         5   17700      17700  1807429   \n5              1 -122.387598  47.690575         6  320840     322340  E919477   \n6              1 -122.338485  47.618534         7   83300      83300  3282542   \n7              2 -122.320780  47.614076         9  330897     332397  EA30304   \n8              1 -122.335930  47.611904        10   63400      63400  2071243   \n9              2 -122.384700  47.528475        12   58600      58600  2072105   \n10             1 -122.330518  47.619543        14   48900      48900  2024040   \n11             1 -122.333831  47.547371        15   38800      38800  C654800   \n12             1 -122.356273  47.571375        16    2771       2771  1211870   \n13             1 -122.323966  47.606374        17   32800      32800  2128498   \n14             2 -122.317414  47.664028        19    1212       1212  3507861   \n15             1 -122.337663  47.617510        20  330878     332378  3838086   \n16             2 -122.344539  47.692012        21   46300      46300  2023080   \n17             1 -122.330518  47.619543        23   23000      23000   537838   \n18             2 -122.328270  47.571420        24  330833     332333  EA29752   \n19             1 -122.383802  47.583715        25   97100      97100  2894590   \n\n       STATUS      ADDRTYPE  \\\n0     Matched  Intersection   \n1     Matched         Block   \n2     Matched         Block   \n3     Matched         Block   \n4     Matched  Intersection   \n5     Matched  Intersection   \n6     Matched  Intersection   \n7     Matched  Intersection   \n8     Matched         Block   \n9     Matched  Intersection   \n10    Matched         Alley   \n11    Matched  Intersection   \n12  Unmatched         Block   \n13    Matched         Block   \n14    Matched         Block   \n15  Unmatched         Block   \n16    Matched  Intersection   \n17    Matched         Block   \n18    Matched         Block   \n19    Matched         Block   \n\n                                             LOCATION  SEVERITYCODE.1  \\\n0                          5TH AVE NE AND NE 103RD ST               2   \n1          AURORA BR BETWEEN RAYE ST AND BRIDGE WAY N               1   \n2         4TH AVE BETWEEN SENECA ST AND UNIVERSITY ST               1   \n3            2ND AVE BETWEEN MARION ST AND MADISON ST               1   \n4                     SWIFT AVE S AND SWIFT AV OFF RP               2   \n5                          24TH AVE NW AND NW 85TH ST               1   \n6                          DENNY WAY AND WESTLAKE AVE               1   \n7                              BROADWAY AND E PIKE ST               2   \n8                 PINE ST BETWEEN 5TH AVE AND 6TH AVE               1   \n9                       41ST AVE SW AND SW THISTLE ST               2   \n10                                                NaN               1   \n11             1ST AV S BR NB AND EAST MARGINAL WAY S               1   \n12  SW SPOKANE ST BETWEEN SW SPOKANE W BR AND TERM...               1   \n13           TERRY AVE BETWEEN JAMES ST AND CHERRY ST               1   \n14  ROOSEVELT WAY NE BETWEEN NE 47TH ST AND NE 50T...               2   \n15         9TH AVE BETWEEN LENORA ST AND BLANCHARD ST               1   \n16                         AURORA AVE N AND N 87TH ST               2   \n17  BATTERY ST TUN ON RP BETWEEN BELL ST AND ALASK...               1   \n18    S SPOKANE SR ST BETWEEN 4TH AVE S AND 5TH AVE S               2   \n19  41ST AVE SW BETWEEN SW WALKER ST AND SW COLLEG...               1   \n\n                      SEVERITYDESC COLLISIONTYPE  PERSONCOUNT  PEDCOUNT  \\\n0                 Injury Collision        Angles            2         0   \n1   Property Damage Only Collision     Sideswipe            2         0   \n2   Property Damage Only Collision    Parked Car            4         0   \n3   Property Damage Only Collision         Other            3         0   \n4                 Injury Collision        Angles            2         0   \n5   Property Damage Only Collision        Angles            2         0   \n6   Property Damage Only Collision        Angles            2         0   \n7                 Injury Collision        Cycles            3         0   \n8   Property Damage Only Collision    Parked Car            2         0   \n9                 Injury Collision        Angles            2         0   \n10  Property Damage Only Collision         Other            2         0   \n11  Property Damage Only Collision        Angles            2         0   \n12  Property Damage Only Collision    Rear Ended            0         0   \n13  Property Damage Only Collision    Parked Car            2         0   \n14                Injury Collision       Head On            2         0   \n15  Property Damage Only Collision           NaN            1         0   \n16                Injury Collision     Left Turn            3         0   \n17  Property Damage Only Collision    Rear Ended            0         0   \n18                Injury Collision    Rear Ended            4         0   \n19  Property Damage Only Collision    Parked Car            2         0   \n\n    PEDCYLCOUNT  VEHCOUNT                 INCDATE                 INCDTTM  \\\n0             0         2  2013/03/27 00:00:00+00    3/27/2013 2:54:00 PM   \n1             0         2  2006/12/20 00:00:00+00   12/20/2006 6:55:00 PM   \n2             0         3  2004/11/18 00:00:00+00  11/18/2004 10:20:00 AM   \n3             0         3  2013/03/29 00:00:00+00    3/29/2013 9:26:00 AM   \n4             0         2  2004/01/28 00:00:00+00    1/28/2004 8:04:00 AM   \n5             0         2  2019/04/20 00:00:00+00    4/20/2019 5:42:00 PM   \n6             0         2  2008/12/09 00:00:00+00               12/9/2008   \n7             1         1  2020/04/15 00:00:00+00    4/15/2020 5:47:00 PM   \n8             0         2  2006/06/15 00:00:00+00    6/15/2006 1:00:00 PM   \n9             0         2  2006/03/20 00:00:00+00    3/20/2006 3:49:00 PM   \n10            0         2  2006/05/25 00:00:00+00    5/25/2006 6:20:00 PM   \n11            0         2  2005/08/11 00:00:00+00    8/11/2005 5:30:00 PM   \n12            0         2  2006/05/17 00:00:00+00   5/17/2006 12:51:00 PM   \n13            0         2  2005/12/22 00:00:00+00   12/22/2005 5:13:00 PM   \n14            0         2  2013/03/31 00:00:00+00    3/31/2013 2:09:00 AM   \n15            0         0  2020/04/20 00:00:00+00               4/20/2020   \n16            0         2  2005/07/01 00:00:00+00                7/1/2005   \n17            0         2  2004/01/16 00:00:00+00    1/16/2004 8:25:00 AM   \n18            0         3  2020/04/17 00:00:00+00    4/17/2020 2:44:00 PM   \n19            0         2  2009/06/01 00:00:00+00                6/1/2009   \n\n                               JUNCTIONTYPE  SDOT_COLCODE  \\\n0    At Intersection (intersection related)            11   \n1   Mid-Block (not related to intersection)            16   \n2   Mid-Block (not related to intersection)            14   \n3   Mid-Block (not related to intersection)            11   \n4    At Intersection (intersection related)            11   \n5    At Intersection (intersection related)            11   \n6    At Intersection (intersection related)            11   \n7    At Intersection (intersection related)            51   \n8   Mid-Block (not related to intersection)            11   \n9    At Intersection (intersection related)            11   \n10                        Driveway Junction            11   \n11   At Intersection (intersection related)            11   \n12  Mid-Block (not related to intersection)            14   \n13  Mid-Block (not related to intersection)            13   \n14  Mid-Block (not related to intersection)            11   \n15                        Driveway Junction            26   \n16   At Intersection (intersection related)            11   \n17     Mid-Block (but intersection related)            14   \n18  Mid-Block (not related to intersection)            14   \n19  Mid-Block (not related to intersection)            11   \n\n                                         SDOT_COLDESC UNDERINFL   WEATHER  \\\n0   MOTOR VEHICLE STRUCK MOTOR VEHICLE, FRONT END ...         N  Overcast   \n1   MOTOR VEHICLE STRUCK MOTOR VEHICLE, LEFT SIDE ...         0   Raining   \n2        MOTOR VEHICLE STRUCK MOTOR VEHICLE, REAR END         0  Overcast   \n3   MOTOR VEHICLE STRUCK MOTOR VEHICLE, FRONT END ...         N     Clear   \n4   MOTOR VEHICLE STRUCK MOTOR VEHICLE, FRONT END ...         0   Raining   \n5   MOTOR VEHICLE STRUCK MOTOR VEHICLE, FRONT END ...         N     Clear   \n6   MOTOR VEHICLE STRUCK MOTOR VEHICLE, FRONT END ...         0   Raining   \n7   PEDALCYCLIST STRUCK MOTOR VEHICLE FRONT END AT...         N     Clear   \n8   MOTOR VEHICLE STRUCK MOTOR VEHICLE, FRONT END ...         0     Clear   \n9   MOTOR VEHICLE STRUCK MOTOR VEHICLE, FRONT END ...         0     Clear   \n10  MOTOR VEHICLE STRUCK MOTOR VEHICLE, FRONT END ...         0  Overcast   \n11  MOTOR VEHICLE STRUCK MOTOR VEHICLE, FRONT END ...         0     Clear   \n12       MOTOR VEHICLE STRUCK MOTOR VEHICLE, REAR END         0   Raining   \n13  MOTOR VEHICLE STRUCK MOTOR VEHICLE, LEFT SIDE ...         0   Raining   \n14  MOTOR VEHICLE STRUCK MOTOR VEHICLE, FRONT END ...         N     Clear   \n15                MOTOR VEHICLE STRUCK OBJECT IN ROAD       NaN       NaN   \n16  MOTOR VEHICLE STRUCK MOTOR VEHICLE, FRONT END ...         0  Overcast   \n17       MOTOR VEHICLE STRUCK MOTOR VEHICLE, REAR END         0  Overcast   \n18       MOTOR VEHICLE STRUCK MOTOR VEHICLE, REAR END         N     Clear   \n19  MOTOR VEHICLE STRUCK MOTOR VEHICLE, FRONT END ...         0   Unknown   \n\n   ROADCOND                LIGHTCOND  \\\n0       Wet                 Daylight   \n1       Wet  Dark - Street Lights On   \n2       Dry                 Daylight   \n3       Dry                 Daylight   \n4       Wet                 Daylight   \n5       Dry                 Daylight   \n6       Wet                 Daylight   \n7       Dry                 Daylight   \n8       Dry                 Daylight   \n9       Dry                 Daylight   \n10      Dry                 Daylight   \n11      Dry                 Daylight   \n12      Wet  Dark - Street Lights On   \n13      Wet  Dark - No Street Lights   \n14      Dry  Dark - Street Lights On   \n15      NaN                      NaN   \n16      Dry                 Daylight   \n17      Dry                 Daylight   \n18      Dry                 Daylight   \n19      Dry                  Unknown   \n\n                                           ST_COLDESC  SEGLANEKEY  \\\n0                                   Entering at angle           0   \n1   From same direction - both going straight - bo...           0   \n2                              One parked--one moving           0   \n3                    From same direction - all others           0   \n4                                   Entering at angle           0   \n5                                   Entering at angle           0   \n6                                   Entering at angle           0   \n7                        Vehicle Strikes Pedalcyclist        6855   \n8                              One parked--one moving           0   \n9                                   Entering at angle           0   \n10                    One car leaving driveway access           0   \n11                                  Entering at angle           0   \n12  From same direction - both going straight - on...           0   \n13                             One parked--one moving           0   \n14               From opposite direction - all others           0   \n15                                                NaN           0   \n16  From opposite direction - one left turn - one ...           0   \n17  From same direction - both going straight - on...           0   \n18  From same direction - both going straight - on...           0   \n19                             One parked--one moving           0   \n\n    CROSSWALKKEY HITPARKEDCAR  \n0              0            N  \n1              0            N  \n2              0            N  \n3              0            N  \n4              0            N  \n5              0            N  \n6              0            N  \n7              0            N  \n8              0            N  \n9              0            N  \n10             0            N  \n11             0            N  \n12             0            N  \n13             0            N  \n14             0            N  \n15             0            N  \n16             0            N  \n17             0            N  \n18             0            N  \n19             0            N  "
                    },
                    "execution_count": 55,
                    "metadata": {},
                    "output_type": "execute_result"
                }
            ],
            "source": "t_df[\"X\"].replace(np.nan, avg_x, inplace=True)\nt_df[\"Y\"].replace(np.nan, avg_y, inplace=True)\nt_df.head(20)"
        },
        {
            "cell_type": "code",
            "execution_count": 56,
            "metadata": {},
            "outputs": [
                {
                    "data": {
                        "text/plain": "Block           126926\nIntersection     65070\nAlley              751\nName: ADDRTYPE, dtype: int64"
                    },
                    "execution_count": 56,
                    "metadata": {},
                    "output_type": "execute_result"
                }
            ],
            "source": "t_df['ADDRTYPE'].value_counts()"
        },
        {
            "cell_type": "markdown",
            "metadata": {},
            "source": "### Replacing data by most frequent value of series"
        },
        {
            "cell_type": "code",
            "execution_count": 57,
            "metadata": {},
            "outputs": [
                {
                    "data": {
                        "text/plain": "'Block'"
                    },
                    "execution_count": 57,
                    "metadata": {},
                    "output_type": "execute_result"
                }
            ],
            "source": "ADDRTYPE = t_df['ADDRTYPE'].value_counts().idxmax()\nADDRTYPE"
        },
        {
            "cell_type": "code",
            "execution_count": 58,
            "metadata": {},
            "outputs": [],
            "source": "t_df[\"ADDRTYPE\"].replace(np.nan, ADDRTYPE, inplace=True)"
        },
        {
            "cell_type": "code",
            "execution_count": 59,
            "metadata": {},
            "outputs": [
                {
                    "data": {
                        "text/plain": "'BATTERY ST TUNNEL NB BETWEEN ALASKAN WY VI NB AND AURORA AVE N'"
                    },
                    "execution_count": 59,
                    "metadata": {},
                    "output_type": "execute_result"
                }
            ],
            "source": "LOCATION = t_df['LOCATION'].value_counts().idxmax()\nLOCATION"
        },
        {
            "cell_type": "code",
            "execution_count": 60,
            "metadata": {},
            "outputs": [],
            "source": "t_df[\"LOCATION\"].replace(np.nan, LOCATION, inplace=True)"
        },
        {
            "cell_type": "code",
            "execution_count": 61,
            "metadata": {},
            "outputs": [
                {
                    "data": {
                        "text/plain": "'Parked Car'"
                    },
                    "execution_count": 61,
                    "metadata": {},
                    "output_type": "execute_result"
                }
            ],
            "source": "COLLISIONTYPE = t_df['COLLISIONTYPE'].value_counts().idxmax()\nCOLLISIONTYPE"
        },
        {
            "cell_type": "code",
            "execution_count": 62,
            "metadata": {},
            "outputs": [],
            "source": "t_df[\"COLLISIONTYPE\"].replace(np.nan, COLLISIONTYPE, inplace=True)"
        },
        {
            "cell_type": "code",
            "execution_count": 63,
            "metadata": {},
            "outputs": [
                {
                    "data": {
                        "text/plain": "'Mid-Block (not related to intersection)'"
                    },
                    "execution_count": 63,
                    "metadata": {},
                    "output_type": "execute_result"
                }
            ],
            "source": "JUNCTIONTYPE = t_df['JUNCTIONTYPE'].value_counts().idxmax()\nJUNCTIONTYPE"
        },
        {
            "cell_type": "code",
            "execution_count": 64,
            "metadata": {},
            "outputs": [],
            "source": "t_df[\"JUNCTIONTYPE\"].replace(np.nan, JUNCTIONTYPE, inplace=True)"
        },
        {
            "cell_type": "code",
            "execution_count": 65,
            "metadata": {},
            "outputs": [
                {
                    "data": {
                        "text/plain": "'N'"
                    },
                    "execution_count": 65,
                    "metadata": {},
                    "output_type": "execute_result"
                }
            ],
            "source": "UNDERINFL = t_df['UNDERINFL'].value_counts().idxmax()\nUNDERINFL"
        },
        {
            "cell_type": "code",
            "execution_count": 66,
            "metadata": {},
            "outputs": [],
            "source": "t_df[\"UNDERINFL\"].replace(np.nan, UNDERINFL, inplace=True)"
        },
        {
            "cell_type": "code",
            "execution_count": 67,
            "metadata": {},
            "outputs": [
                {
                    "data": {
                        "text/plain": "'Clear'"
                    },
                    "execution_count": 67,
                    "metadata": {},
                    "output_type": "execute_result"
                }
            ],
            "source": "WEATHER = t_df['WEATHER'].value_counts().idxmax()\nWEATHER"
        },
        {
            "cell_type": "code",
            "execution_count": 68,
            "metadata": {},
            "outputs": [],
            "source": "t_df[\"WEATHER\"].replace(np.nan, WEATHER, inplace=True)"
        },
        {
            "cell_type": "code",
            "execution_count": 69,
            "metadata": {},
            "outputs": [
                {
                    "data": {
                        "text/plain": "'Dry'"
                    },
                    "execution_count": 69,
                    "metadata": {},
                    "output_type": "execute_result"
                }
            ],
            "source": "ROADCOND = t_df['ROADCOND'].value_counts().idxmax()\nROADCOND"
        },
        {
            "cell_type": "code",
            "execution_count": 70,
            "metadata": {},
            "outputs": [],
            "source": "t_df[\"ROADCOND\"].replace(np.nan, ROADCOND, inplace=True)"
        },
        {
            "cell_type": "code",
            "execution_count": 71,
            "metadata": {},
            "outputs": [
                {
                    "data": {
                        "text/plain": "'Daylight'"
                    },
                    "execution_count": 71,
                    "metadata": {},
                    "output_type": "execute_result"
                }
            ],
            "source": "LIGHTCOND = t_df['LIGHTCOND'].value_counts().idxmax()\nLIGHTCOND"
        },
        {
            "cell_type": "code",
            "execution_count": 72,
            "metadata": {},
            "outputs": [],
            "source": "t_df[\"LIGHTCOND\"].replace(np.nan, LIGHTCOND, inplace=True)"
        },
        {
            "cell_type": "code",
            "execution_count": 73,
            "metadata": {},
            "outputs": [
                {
                    "data": {
                        "text/plain": "'One parked--one moving'"
                    },
                    "execution_count": 73,
                    "metadata": {},
                    "output_type": "execute_result"
                }
            ],
            "source": "ST_COLDESC = t_df['ST_COLDESC'].value_counts().idxmax()\nST_COLDESC"
        },
        {
            "cell_type": "code",
            "execution_count": 74,
            "metadata": {},
            "outputs": [],
            "source": "t_df[\"ST_COLDESC\"].replace(np.nan, ST_COLDESC, inplace=True)"
        },
        {
            "cell_type": "code",
            "execution_count": 75,
            "metadata": {},
            "outputs": [
                {
                    "name": "stdout",
                    "output_type": "stream",
                    "text": "SEVERITYCODE\nFalse    194673\nName: SEVERITYCODE, dtype: int64\n\nX\nFalse    194673\nName: X, dtype: int64\n\nY\nFalse    194673\nName: Y, dtype: int64\n\nOBJECTID\nFalse    194673\nName: OBJECTID, dtype: int64\n\nINCKEY\nFalse    194673\nName: INCKEY, dtype: int64\n\nCOLDETKEY\nFalse    194673\nName: COLDETKEY, dtype: int64\n\nREPORTNO\nFalse    194673\nName: REPORTNO, dtype: int64\n\nSTATUS\nFalse    194673\nName: STATUS, dtype: int64\n\nADDRTYPE\nFalse    194673\nName: ADDRTYPE, dtype: int64\n\nLOCATION\nFalse    194673\nName: LOCATION, dtype: int64\n\nSEVERITYCODE.1\nFalse    194673\nName: SEVERITYCODE.1, dtype: int64\n\nSEVERITYDESC\nFalse    194673\nName: SEVERITYDESC, dtype: int64\n\nCOLLISIONTYPE\nFalse    194673\nName: COLLISIONTYPE, dtype: int64\n\nPERSONCOUNT\nFalse    194673\nName: PERSONCOUNT, dtype: int64\n\nPEDCOUNT\nFalse    194673\nName: PEDCOUNT, dtype: int64\n\nPEDCYLCOUNT\nFalse    194673\nName: PEDCYLCOUNT, dtype: int64\n\nVEHCOUNT\nFalse    194673\nName: VEHCOUNT, dtype: int64\n\nINCDATE\nFalse    194673\nName: INCDATE, dtype: int64\n\nINCDTTM\nFalse    194673\nName: INCDTTM, dtype: int64\n\nJUNCTIONTYPE\nFalse    194673\nName: JUNCTIONTYPE, dtype: int64\n\nSDOT_COLCODE\nFalse    194673\nName: SDOT_COLCODE, dtype: int64\n\nSDOT_COLDESC\nFalse    194673\nName: SDOT_COLDESC, dtype: int64\n\nUNDERINFL\nFalse    194673\nName: UNDERINFL, dtype: int64\n\nWEATHER\nFalse    194673\nName: WEATHER, dtype: int64\n\nROADCOND\nFalse    194673\nName: ROADCOND, dtype: int64\n\nLIGHTCOND\nFalse    194673\nName: LIGHTCOND, dtype: int64\n\nST_COLDESC\nFalse    194673\nName: ST_COLDESC, dtype: int64\n\nSEGLANEKEY\nFalse    194673\nName: SEGLANEKEY, dtype: int64\n\nCROSSWALKKEY\nFalse    194673\nName: CROSSWALKKEY, dtype: int64\n\nHITPARKEDCAR\nFalse    194673\nName: HITPARKEDCAR, dtype: int64\n\n"
                }
            ],
            "source": "missing_data = t_df.isnull()\n\nfor column in missing_data.columns.values.tolist():\n    print(column)\n    print (missing_data[column].value_counts())\n    print(\"\")"
        },
        {
            "cell_type": "code",
            "execution_count": 38,
            "metadata": {},
            "outputs": [],
            "source": "t_df.to_csv(\"cc_df.csv\", index=False)"
        },
        {
            "cell_type": "code",
            "execution_count": 79,
            "metadata": {},
            "outputs": [
                {
                    "data": {
                        "text/plain": "'Dry'"
                    },
                    "execution_count": 79,
                    "metadata": {},
                    "output_type": "execute_result"
                }
            ],
            "source": "t_df['ROADCOND'].value_counts().idxmax()"
        },
        {
            "cell_type": "code",
            "execution_count": 40,
            "metadata": {},
            "outputs": [
                {
                    "data": {
                        "text/plain": "(194673, 30)"
                    },
                    "execution_count": 40,
                    "metadata": {},
                    "output_type": "execute_result"
                }
            ],
            "source": "t_df.shape"
        },
        {
            "cell_type": "code",
            "execution_count": null,
            "metadata": {},
            "outputs": [],
            "source": ""
        }
    ],
    "metadata": {
        "kernelspec": {
            "display_name": "ds-ibm_lab",
            "language": "python",
            "name": "ds-ibm_lab"
        },
        "language_info": {
            "codemirror_mode": {
                "name": "ipython",
                "version": 3
            },
            "file_extension": ".py",
            "mimetype": "text/x-python",
            "name": "python",
            "nbconvert_exporter": "python",
            "pygments_lexer": "ipython3",
            "version": "3.6.10"
        }
    },
    "nbformat": 4,
    "nbformat_minor": 4
}