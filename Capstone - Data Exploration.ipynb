{
    "cells": [
        {
            "cell_type": "markdown",
            "metadata": {},
            "source": "## Removing irrelevant columns"
        },
        {
            "cell_type": "code",
            "execution_count": 87,
            "metadata": {},
            "outputs": [],
            "source": "import pandas as pd"
        },
        {
            "cell_type": "code",
            "execution_count": 88,
            "metadata": {},
            "outputs": [],
            "source": "c_df = pd.read_csv('cc_df.csv')"
        },
        {
            "cell_type": "code",
            "execution_count": 92,
            "metadata": {},
            "outputs": [
                {
                    "data": {
                        "text/plain": "(194673, 30)"
                    },
                    "execution_count": 92,
                    "metadata": {},
                    "output_type": "execute_result"
                }
            ],
            "source": "c_df.describe()\nc_df.shape"
        },
        {
            "cell_type": "markdown",
            "metadata": {},
            "source": "#### These columns are relevant for the business problem since per-se they are related to the problem being researched and thus make up the feature set or the label."
        },
        {
            "cell_type": "code",
            "execution_count": 66,
            "metadata": {},
            "outputs": [
                {
                    "data": {
                        "text/html": "<div>\n<style scoped>\n    .dataframe tbody tr th:only-of-type {\n        vertical-align: middle;\n    }\n\n    .dataframe tbody tr th {\n        vertical-align: top;\n    }\n\n    .dataframe thead th {\n        text-align: right;\n    }\n</style>\n<table border=\"1\" class=\"dataframe\">\n  <thead>\n    <tr style=\"text-align: right;\">\n      <th></th>\n      <th>SEVERITYCODE.1</th>\n      <th>JUNCTIONTYPE</th>\n      <th>WEATHER</th>\n      <th>ROADCOND</th>\n      <th>LIGHTCOND</th>\n    </tr>\n  </thead>\n  <tbody>\n    <tr>\n      <th>0</th>\n      <td>2</td>\n      <td>At Intersection (intersection related)</td>\n      <td>Overcast</td>\n      <td>Wet</td>\n      <td>Daylight</td>\n    </tr>\n    <tr>\n      <th>1</th>\n      <td>1</td>\n      <td>Mid-Block (not related to intersection)</td>\n      <td>Raining</td>\n      <td>Wet</td>\n      <td>Dark - Street Lights On</td>\n    </tr>\n    <tr>\n      <th>2</th>\n      <td>1</td>\n      <td>Mid-Block (not related to intersection)</td>\n      <td>Overcast</td>\n      <td>Dry</td>\n      <td>Daylight</td>\n    </tr>\n    <tr>\n      <th>3</th>\n      <td>1</td>\n      <td>Mid-Block (not related to intersection)</td>\n      <td>Clear</td>\n      <td>Dry</td>\n      <td>Daylight</td>\n    </tr>\n    <tr>\n      <th>4</th>\n      <td>2</td>\n      <td>At Intersection (intersection related)</td>\n      <td>Raining</td>\n      <td>Wet</td>\n      <td>Daylight</td>\n    </tr>\n    <tr>\n      <th>5</th>\n      <td>1</td>\n      <td>At Intersection (intersection related)</td>\n      <td>Clear</td>\n      <td>Dry</td>\n      <td>Daylight</td>\n    </tr>\n    <tr>\n      <th>6</th>\n      <td>1</td>\n      <td>At Intersection (intersection related)</td>\n      <td>Raining</td>\n      <td>Wet</td>\n      <td>Daylight</td>\n    </tr>\n    <tr>\n      <th>7</th>\n      <td>2</td>\n      <td>At Intersection (intersection related)</td>\n      <td>Clear</td>\n      <td>Dry</td>\n      <td>Daylight</td>\n    </tr>\n    <tr>\n      <th>8</th>\n      <td>1</td>\n      <td>Mid-Block (not related to intersection)</td>\n      <td>Clear</td>\n      <td>Dry</td>\n      <td>Daylight</td>\n    </tr>\n    <tr>\n      <th>9</th>\n      <td>2</td>\n      <td>At Intersection (intersection related)</td>\n      <td>Clear</td>\n      <td>Dry</td>\n      <td>Daylight</td>\n    </tr>\n    <tr>\n      <th>10</th>\n      <td>1</td>\n      <td>Driveway Junction</td>\n      <td>Overcast</td>\n      <td>Dry</td>\n      <td>Daylight</td>\n    </tr>\n    <tr>\n      <th>11</th>\n      <td>1</td>\n      <td>At Intersection (intersection related)</td>\n      <td>Clear</td>\n      <td>Dry</td>\n      <td>Daylight</td>\n    </tr>\n    <tr>\n      <th>12</th>\n      <td>1</td>\n      <td>Mid-Block (not related to intersection)</td>\n      <td>Raining</td>\n      <td>Wet</td>\n      <td>Dark - Street Lights On</td>\n    </tr>\n    <tr>\n      <th>13</th>\n      <td>1</td>\n      <td>Mid-Block (not related to intersection)</td>\n      <td>Raining</td>\n      <td>Wet</td>\n      <td>Dark - No Street Lights</td>\n    </tr>\n    <tr>\n      <th>14</th>\n      <td>2</td>\n      <td>Mid-Block (not related to intersection)</td>\n      <td>Clear</td>\n      <td>Dry</td>\n      <td>Dark - Street Lights On</td>\n    </tr>\n    <tr>\n      <th>15</th>\n      <td>1</td>\n      <td>Driveway Junction</td>\n      <td>Clear</td>\n      <td>Dry</td>\n      <td>Daylight</td>\n    </tr>\n  </tbody>\n</table>\n</div>",
                        "text/plain": "    SEVERITYCODE.1                             JUNCTIONTYPE   WEATHER  \\\n0                2   At Intersection (intersection related)  Overcast   \n1                1  Mid-Block (not related to intersection)   Raining   \n2                1  Mid-Block (not related to intersection)  Overcast   \n3                1  Mid-Block (not related to intersection)     Clear   \n4                2   At Intersection (intersection related)   Raining   \n5                1   At Intersection (intersection related)     Clear   \n6                1   At Intersection (intersection related)   Raining   \n7                2   At Intersection (intersection related)     Clear   \n8                1  Mid-Block (not related to intersection)     Clear   \n9                2   At Intersection (intersection related)     Clear   \n10               1                        Driveway Junction  Overcast   \n11               1   At Intersection (intersection related)     Clear   \n12               1  Mid-Block (not related to intersection)   Raining   \n13               1  Mid-Block (not related to intersection)   Raining   \n14               2  Mid-Block (not related to intersection)     Clear   \n15               1                        Driveway Junction     Clear   \n\n   ROADCOND                LIGHTCOND  \n0       Wet                 Daylight  \n1       Wet  Dark - Street Lights On  \n2       Dry                 Daylight  \n3       Dry                 Daylight  \n4       Wet                 Daylight  \n5       Dry                 Daylight  \n6       Wet                 Daylight  \n7       Dry                 Daylight  \n8       Dry                 Daylight  \n9       Dry                 Daylight  \n10      Dry                 Daylight  \n11      Dry                 Daylight  \n12      Wet  Dark - Street Lights On  \n13      Wet  Dark - No Street Lights  \n14      Dry  Dark - Street Lights On  \n15      Dry                 Daylight  "
                    },
                    "execution_count": 66,
                    "metadata": {},
                    "output_type": "execute_result"
                }
            ],
            "source": "sel_df = c_df[['SEVERITYCODE.1','JUNCTIONTYPE','WEATHER','ROADCOND','LIGHTCOND']]\nsel_df = sel_df.replace(to_replace ='\\/', value = ' ', regex = True)\nsel_df.head(16)"
        },
        {
            "cell_type": "code",
            "execution_count": 67,
            "metadata": {},
            "outputs": [
                {
                    "data": {
                        "text/plain": "1    136485\n2     58188\nName: SEVERITYCODE.1, dtype: int64"
                    },
                    "execution_count": 67,
                    "metadata": {},
                    "output_type": "execute_result"
                }
            ],
            "source": "sel_df['SEVERITYCODE.1'].value_counts()"
        },
        {
            "cell_type": "markdown",
            "metadata": {},
            "source": "### Converting into numerical data"
        },
        {
            "cell_type": "code",
            "execution_count": 68,
            "metadata": {},
            "outputs": [
                {
                    "data": {
                        "text/plain": "Mid-Block (not related to intersection)              96129\nAt Intersection (intersection related)               62810\nMid-Block (but intersection related)                 22790\nDriveway Junction                                    10671\nAt Intersection (but not related to intersection)     2098\nRamp Junction                                          166\nUnknown                                                  9\nName: JUNCTIONTYPE, dtype: int64"
                    },
                    "execution_count": 68,
                    "metadata": {},
                    "output_type": "execute_result"
                }
            ],
            "source": "sel_df['JUNCTIONTYPE'].value_counts()"
        },
        {
            "cell_type": "code",
            "execution_count": 69,
            "metadata": {},
            "outputs": [],
            "source": "filter = (sel_df['JUNCTIONTYPE']=='Mid-Block (not related to intersection)')\nsel_df.loc[filter, 'JUNCTIONTYPE'] = 1"
        },
        {
            "cell_type": "code",
            "execution_count": 70,
            "metadata": {},
            "outputs": [],
            "source": "filter = (sel_df['JUNCTIONTYPE']=='At Intersection (intersection related)')\nsel_df.loc[filter, 'JUNCTIONTYPE'] = 2"
        },
        {
            "cell_type": "code",
            "execution_count": 71,
            "metadata": {},
            "outputs": [],
            "source": "filter = (sel_df['JUNCTIONTYPE']=='Mid-Block (but intersection related)')\nsel_df.loc[filter, 'JUNCTIONTYPE'] = 3"
        },
        {
            "cell_type": "code",
            "execution_count": 72,
            "metadata": {},
            "outputs": [],
            "source": "filter = (sel_df['JUNCTIONTYPE']=='Driveway Junction')\nsel_df.loc[filter, 'JUNCTIONTYPE'] = 4"
        },
        {
            "cell_type": "code",
            "execution_count": 73,
            "metadata": {},
            "outputs": [],
            "source": "filter = (sel_df['JUNCTIONTYPE']=='At Intersection (but not related to intersection)')\nsel_df.loc[filter, 'JUNCTIONTYPE'] = 5"
        },
        {
            "cell_type": "code",
            "execution_count": 74,
            "metadata": {},
            "outputs": [],
            "source": "filter = (sel_df['JUNCTIONTYPE']=='Ramp Junction')\nsel_df.loc[filter, 'JUNCTIONTYPE'] = 6"
        },
        {
            "cell_type": "code",
            "execution_count": 76,
            "metadata": {},
            "outputs": [],
            "source": "filter = (sel_df['JUNCTIONTYPE']=='Unknown')\nsel_df.loc[filter, 'JUNCTIONTYPE'] = 7"
        },
        {
            "cell_type": "code",
            "execution_count": 77,
            "metadata": {},
            "outputs": [
                {
                    "data": {
                        "text/plain": "1    96129\n2    62810\n3    22790\n4    10671\n5     2098\n6      166\n7        9\nName: JUNCTIONTYPE, dtype: int64"
                    },
                    "execution_count": 77,
                    "metadata": {},
                    "output_type": "execute_result"
                }
            ],
            "source": "sel_df['JUNCTIONTYPE'].value_counts()"
        },
        {
            "cell_type": "code",
            "execution_count": 78,
            "metadata": {},
            "outputs": [
                {
                    "data": {
                        "text/plain": "Clear                       116216\nRaining                      33145\nOvercast                     27714\nUnknown                      15091\nSnowing                        907\nOther                          832\nFog Smog Smoke                 569\nSleet Hail Freezing Rain       113\nBlowing Sand Dirt               56\nSevere Crosswind                25\nPartly Cloudy                    5\nName: WEATHER, dtype: int64"
                    },
                    "execution_count": 78,
                    "metadata": {},
                    "output_type": "execute_result"
                }
            ],
            "source": "sel_df['WEATHER'].value_counts()"
        },
        {
            "cell_type": "code",
            "execution_count": 79,
            "metadata": {},
            "outputs": [
                {
                    "data": {
                        "text/plain": "1     116216\n2      33145\n3      27714\n4      15923\n5        907\n6        569\n7        113\n8         56\n9         25\n10         5\nName: WEATHER, dtype: int64"
                    },
                    "execution_count": 79,
                    "metadata": {},
                    "output_type": "execute_result"
                }
            ],
            "source": "sel_df = sel_df.replace(['Clear','Raining','Overcast','Unknown','Snowing','Other','Fog Smog Smoke','Sleet Hail Freezing Rain','Blowing Sand Dirt','Severe Crosswind','Partly Cloudy'],[1,2,3,4,5,4,6,7,8,9,10])\nsel_df['WEATHER'].value_counts()"
        },
        {
            "cell_type": "code",
            "execution_count": 80,
            "metadata": {},
            "outputs": [
                {
                    "data": {
                        "text/plain": "Dry               129522\nWet                47474\n4                  15210\nIce                 1209\nSnow Slush          1004\nStanding Water       115\nSand Mud Dirt         75\nOil                   64\nName: ROADCOND, dtype: int64"
                    },
                    "execution_count": 80,
                    "metadata": {},
                    "output_type": "execute_result"
                }
            ],
            "source": "sel_df['ROADCOND'].value_counts()"
        },
        {
            "cell_type": "code",
            "execution_count": 81,
            "metadata": {},
            "outputs": [
                {
                    "data": {
                        "text/plain": "1    129522\n2     47474\n4     15210\n3      1209\n5      1004\n6       115\n7        75\n8        64\nName: ROADCOND, dtype: int64"
                    },
                    "execution_count": 81,
                    "metadata": {},
                    "output_type": "execute_result"
                }
            ],
            "source": "# Knwoing that '4' stands for 'Unknown' or 'Other' conditions we continue\nsel_df['ROADCOND'] = sel_df['ROADCOND'].replace(['Dry','Wet','Ice','Snow Slush','Standing Water','Sand Mud Dirt','Oil'],[1,2,3,5,6,7,8])\nsel_df['ROADCOND'].value_counts()"
        },
        {
            "cell_type": "code",
            "execution_count": 82,
            "metadata": {},
            "outputs": [
                {
                    "data": {
                        "text/plain": "Daylight                    121307\nDark - Street Lights On      48507\n4                            13708\nDusk                          5902\nDawn                          2502\nDark - No Street Lights       1537\nDark - Street Lights Off      1199\nDark - Unknown Lighting         11\nName: LIGHTCOND, dtype: int64"
                    },
                    "execution_count": 82,
                    "metadata": {},
                    "output_type": "execute_result"
                }
            ],
            "source": "\nsel_df['LIGHTCOND'].value_counts()"
        },
        {
            "cell_type": "code",
            "execution_count": 83,
            "metadata": {},
            "outputs": [],
            "source": "# Knwoing that '4' stands for 'Unknown' or 'Other' conditions we continue\nsel_df['LIGHTCOND'] = sel_df['LIGHTCOND'].replace(['Daylight','Dark - Street Lights On','Dusk','Dawn','Dark - No Street Lights','Dark - Street Lights Off','Dark - Unknown Lighting'],[1,2,3,5,6,7,8])\n"
        },
        {
            "cell_type": "code",
            "execution_count": 84,
            "metadata": {},
            "outputs": [
                {
                    "data": {
                        "text/plain": "1    121307\n2     48507\n4     13708\n3      5902\n5      2502\n6      1537\n7      1199\n8        11\nName: LIGHTCOND, dtype: int64"
                    },
                    "execution_count": 84,
                    "metadata": {},
                    "output_type": "execute_result"
                }
            ],
            "source": "sel_df['LIGHTCOND'].value_counts()"
        },
        {
            "cell_type": "code",
            "execution_count": 85,
            "metadata": {},
            "outputs": [],
            "source": "sel_df.to_csv(\"mod_df.csv\", index=False)"
        },
        {
            "cell_type": "code",
            "execution_count": null,
            "metadata": {},
            "outputs": [],
            "source": ""
        }
    ],
    "metadata": {
        "kernelspec": {
            "display_name": "ds-ibm_lab",
            "language": "python",
            "name": "ds-ibm_lab"
        },
        "language_info": {
            "codemirror_mode": {
                "name": "ipython",
                "version": 3
            },
            "file_extension": ".py",
            "mimetype": "text/x-python",
            "name": "python",
            "nbconvert_exporter": "python",
            "pygments_lexer": "ipython3",
            "version": "3.6.10"
        }
    },
    "nbformat": 4,
    "nbformat_minor": 4
}