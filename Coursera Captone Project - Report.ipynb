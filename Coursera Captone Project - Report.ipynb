{
    "cells": [
        {
            "cell_type": "markdown",
            "metadata": {},
            "source": "# Coursera/IBM Capstone Project"
        },
        {
            "cell_type": "markdown",
            "metadata": {},
            "source": "#### Scenario and goal\nWith the reference to the introductory video, this project is about finding a model that predicts the probability of getting into a car accident of a certain severity depending on road, weather and other similar conditions."
        },
        {
            "cell_type": "markdown",
            "metadata": {},
            "source": "#### Application \nA navigation system software company a feature that focasts possible accident involvement into their application in order to raise the awareness of the driver and encourage to chose an alternative route."
        },
        {
            "cell_type": "markdown",
            "metadata": {},
            "source": "#### Methodology\nUsually, the work procedure is as follows:\n1. Bring relevant data together from different tables\n2. Data Cleaning\n3. (Data Exploration)\n4. Futher Data Cleaning\n5. Modeling\n6. Training\n7. Testing and Evaluation\n8. (Choose different model settings or complete different model and start off from step 5)\n9. Testing and Evaluation\n10. Conclusion\n\n\nHowever, since data available and relevant data is gathered in just one source/table, we can skip the Data Engineering part i.e. the first step.\nSo my project will abide by the following procedure:\n1. Data Cleaning\n2. Data Exploration\n3. (Futher Data Cleaning)\n4. Modeling\n5. Training\n6. Testing and Evaluation\n7. (Choose different model settings or complete different model and start off from step 5)\n8. Testing and Evaluation\n9. Conclusion"
        },
        {
            "cell_type": "markdown",
            "metadata": {},
            "source": "#### Data Cleaning and Exploration\nThe data has been cleaned using drop(), dropna(), replace() and similar methods. The majority of columns are irrelevant for the problem at hand, hence they can be dropped. Further data exploration leaves the research with following columns to work on:\n* SEVERITYCODE.1 - the dependent variable\n* JUNCTIONTYPE\n* WEATHER\n* ROADCOND - condition of the road\n* LIGHTCOND - condition of the light\n"
        },
        {
            "cell_type": "markdown",
            "metadata": {},
            "source": "Data of these columns have been translated into numerical data in order to facilitate the modeling."
        },
        {
            "cell_type": "markdown",
            "metadata": {},
            "source": "| JUNCTIONTYPE | WEATHER | ROADCOND | LIGHTCOND |\n| --- | --- | --- | --- | \n| Mid-Block (not related to intersection): 1 | Clear: 1 | Dry: 1 |Daylight : 1 |\n| At Intersection (intersection related): 2 | Raining: 2 | Wet: 2 | Dark - Street Lights On: 2 |\n| Mid-Block (but intersection related): 3 | Overvast: 3 | Ice: 3 | Dusk: 3 |\n| Driveway Junction: 4 | Unknown/Other: 4 | Unknown/Other: 4 | Unknown/Other: 4 |\n| At Intersection (but not related to intersection): 5| Snowing: 5 | Snow/Slush: 5 | Dawn: 5 |\n| Ramp Junction: 6 | Fog Smog Smoke: 6 | Standing Water: 6 | Dark - No Street Lights: 6 |\n| Unknown: 7| Sleet Hail Freezing: 7 | Sand Mud Dirt: 7 | Dark - Street Lights Off: 7 |\n| n/a | Blowing Sand Dirt: 8 | Oil: 8 | Dark - Unknown Lighting: 8 |\n| n/a | Severe Crosswind: 9 | n/a | n/a |\n| n/a | Partly Clouded: 10 | n/a | n/a |"
        },
        {
            "cell_type": "markdown",
            "metadata": {},
            "source": "##### Modeling\nSince the data for the classifier label is available, we deal with Supervised Learning.\nAs we have a classifier (Severity) with two categories (1,2) we can chose from several\npossible models.\nFor my project I will go ahead with Decision Tree. I will split the data into 'modeling-data'\nand 'evaluation-data'. The former is the portion to be used for training and testing the model and the latter\nwill be used to evaluate the optimized model established.\nFor evaluation I will calculate the Jaccard index and F1-score."
        },
        {
            "cell_type": "markdown",
            "metadata": {},
            "source": "The steps for modeling are as follows:\n* Splitting the data twice, to generate train-test data and the evaluation data\n* Normalize train-test data\n* For K between 1 and 10 calculate Jaggard Index and F1 Score\n* Retrieve optimal K(s)\n"
        },
        {
            "cell_type": "markdown",
            "metadata": {},
            "source": "##### Evaluation\nApplying K=4 to the fitting step using the evaluation model, we acquire the optimized model for the predicting decision tree."
        },
        {
            "cell_type": "markdown",
            "metadata": {},
            "source": "##### Discussion and Conclusion\n"
        },
        {
            "cell_type": "markdown",
            "metadata": {},
            "source": "The optimization of K has not provided promising results for the Jaccard Index and the F1 Score since the K do not vary much. Even though the final results with the evaluation data deliver realstic results for the score and index, it is easy to recognize that the prediction with the fitted model is not working reliably.\nI reckon there are two possible reasons for that:\n1. Chosing the wrong model\n2. The data preparation process is imcomplete\n"
        }
    ],
    "metadata": {
        "kernelspec": {
            "display_name": "Python 3.6",
            "language": "python",
            "name": "python3"
        },
        "language_info": {
            "codemirror_mode": {
                "name": "ipython",
                "version": 3
            },
            "file_extension": ".py",
            "mimetype": "text/x-python",
            "name": "python",
            "nbconvert_exporter": "python",
            "pygments_lexer": "ipython3",
            "version": "3.6.9"
        }
    },
    "nbformat": 4,
    "nbformat_minor": 4
}